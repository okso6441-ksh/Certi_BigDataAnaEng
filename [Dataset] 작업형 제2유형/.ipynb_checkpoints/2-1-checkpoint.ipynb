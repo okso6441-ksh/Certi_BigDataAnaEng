{
 "cells": [
  {
   "cell_type": "code",
   "execution_count": 1,
   "metadata": {},
   "outputs": [],
   "source": [
    "import pandas as pd"
   ]
  },
  {
   "cell_type": "markdown",
   "metadata": {},
   "source": [
    "# 1. 데이터 로드"
   ]
  },
  {
   "cell_type": "code",
   "execution_count": 6,
   "metadata": {},
   "outputs": [
    {
     "name": "stdout",
     "output_type": "stream",
     "text": [
      "(3500, 10) (3500, 2) (2482, 10)\n",
      "(3500, 11)\n"
     ]
    }
   ],
   "source": [
    "# 실습 환경은 인코딩 없이 진행 됨\n",
    "train = pd.read_csv('data/X_train.csv', encoding='euc-kr') \n",
    "target = pd.read_csv('data/y_train.csv')\n",
    "test = pd.read_csv('data/X_test.csv', encoding='euc-kr')\n",
    "\n",
    "print(train.shape, target.shape, test.shape)\n",
    "\n",
    "df = train.merge(target, on='cust_id', how='left')\n",
    "print(df.shape)"
   ]
  },
  {
   "cell_type": "markdown",
   "metadata": {},
   "source": [
    "# 2. 전처리 & Feature Engineering"
   ]
  },
  {
   "cell_type": "code",
   "execution_count": 8,
   "metadata": {},
   "outputs": [
    {
     "name": "stdout",
     "output_type": "stream",
     "text": [
      "<class 'pandas.core.frame.DataFrame'>\n",
      "Int64Index: 3500 entries, 0 to 3499\n",
      "Data columns (total 11 columns):\n",
      " #   Column   Non-Null Count  Dtype  \n",
      "---  ------   --------------  -----  \n",
      " 0   cust_id  3500 non-null   int64  \n",
      " 1   총구매액     3500 non-null   int64  \n",
      " 2   최대구매액    3500 non-null   int64  \n",
      " 3   환불금액     1205 non-null   float64\n",
      " 4   주구매상품    3500 non-null   object \n",
      " 5   주구매지점    3500 non-null   object \n",
      " 6   내점일수     3500 non-null   int64  \n",
      " 7   내점당구매건수  3500 non-null   float64\n",
      " 8   주말방문비율   3500 non-null   float64\n",
      " 9   구매주기     3500 non-null   int64  \n",
      " 10  gender   3500 non-null   int64  \n",
      "dtypes: float64(3), int64(6), object(2)\n",
      "memory usage: 328.1+ KB\n",
      "None\n"
     ]
    }
   ],
   "source": [
    "print(df.info())"
   ]
  },
  {
   "cell_type": "code",
   "execution_count": 12,
   "metadata": {},
   "outputs": [
    {
     "name": "stdout",
     "output_type": "stream",
     "text": [
      "cust_id \n",
      " count     3500.000000\n",
      "unique            NaN\n",
      "top               NaN\n",
      "freq              NaN\n",
      "mean      1749.500000\n",
      "std       1010.507298\n",
      "min          0.000000\n",
      "25%        874.750000\n",
      "50%       1749.500000\n",
      "75%       2624.250000\n",
      "max       3499.000000\n",
      "Name: cust_id, dtype: float64\n",
      "총구매액 \n",
      " count     3.500000e+03\n",
      "unique             NaN\n",
      "top                NaN\n",
      "freq               NaN\n",
      "mean      9.191925e+07\n",
      "std       1.635065e+08\n",
      "min      -5.242152e+07\n",
      "25%       4.747050e+06\n",
      "50%       2.822270e+07\n",
      "75%       1.065079e+08\n",
      "max       2.323180e+09\n",
      "Name: 총구매액, dtype: float64\n",
      "최대구매액 \n",
      " count     3.500000e+03\n",
      "unique             NaN\n",
      "top                NaN\n",
      "freq               NaN\n",
      "mean      1.966424e+07\n",
      "std       3.199235e+07\n",
      "min      -2.992000e+06\n",
      "25%       2.875000e+06\n",
      "50%       9.837000e+06\n",
      "75%       2.296250e+07\n",
      "max       7.066290e+08\n",
      "Name: 최대구매액, dtype: float64\n",
      "환불금액 \n",
      " count     1.205000e+03\n",
      "unique             NaN\n",
      "top                NaN\n",
      "freq               NaN\n",
      "mean      2.407822e+07\n",
      "std       4.746453e+07\n",
      "min       5.600000e+03\n",
      "25%       2.259000e+06\n",
      "50%       7.392000e+06\n",
      "75%       2.412000e+07\n",
      "max       5.637530e+08\n",
      "Name: 환불금액, dtype: float64\n",
      "주구매상품 \n",
      " count     3500\n",
      "unique      42\n",
      "top         기타\n",
      "freq       595\n",
      "mean       NaN\n",
      "std        NaN\n",
      "min        NaN\n",
      "25%        NaN\n",
      "50%        NaN\n",
      "75%        NaN\n",
      "max        NaN\n",
      "Name: 주구매상품, dtype: object\n",
      "주구매지점 \n",
      " count     3500\n",
      "unique      24\n",
      "top       본  점\n",
      "freq      1077\n",
      "mean       NaN\n",
      "std        NaN\n",
      "min        NaN\n",
      "25%        NaN\n",
      "50%        NaN\n",
      "75%        NaN\n",
      "max        NaN\n",
      "Name: 주구매지점, dtype: object\n",
      "내점일수 \n",
      " count     3500.000000\n",
      "unique            NaN\n",
      "top               NaN\n",
      "freq              NaN\n",
      "mean        19.253714\n",
      "std         27.174942\n",
      "min          1.000000\n",
      "25%          2.000000\n",
      "50%          8.000000\n",
      "75%         25.000000\n",
      "max        285.000000\n",
      "Name: 내점일수, dtype: float64\n",
      "내점당구매건수 \n",
      " count     3500.000000\n",
      "unique            NaN\n",
      "top               NaN\n",
      "freq              NaN\n",
      "mean         2.834963\n",
      "std          1.912368\n",
      "min          1.000000\n",
      "25%          1.666667\n",
      "50%          2.333333\n",
      "75%          3.375000\n",
      "max         22.083333\n",
      "Name: 내점당구매건수, dtype: float64\n",
      "주말방문비율 \n",
      " count     3500.000000\n",
      "unique            NaN\n",
      "top               NaN\n",
      "freq              NaN\n",
      "mean         0.307246\n",
      "std          0.289752\n",
      "min          0.000000\n",
      "25%          0.027291\n",
      "50%          0.256410\n",
      "75%          0.448980\n",
      "max          1.000000\n",
      "Name: 주말방문비율, dtype: float64\n",
      "구매주기 \n",
      " count     3500.000000\n",
      "unique            NaN\n",
      "top               NaN\n",
      "freq              NaN\n",
      "mean        20.958286\n",
      "std         24.748682\n",
      "min          0.000000\n",
      "25%          4.000000\n",
      "50%         13.000000\n",
      "75%         28.000000\n",
      "max        166.000000\n",
      "Name: 구매주기, dtype: float64\n",
      "gender \n",
      " count     3500.000000\n",
      "unique            NaN\n",
      "top               NaN\n",
      "freq              NaN\n",
      "mean         0.376000\n",
      "std          0.484449\n",
      "min          0.000000\n",
      "25%          0.000000\n",
      "50%          0.000000\n",
      "75%          1.000000\n",
      "max          1.000000\n",
      "Name: gender, dtype: float64\n"
     ]
    }
   ],
   "source": [
    "# 실습 환경에서 desc 짤리기 때문에 출력 추가 코딩 필요\n",
    "desc = df.describe(include=\"all\") \n",
    "\n",
    "for col in df.columns:\n",
    "    print(col,'\\n', desc[col])\n",
    "    pass"
   ]
  },
  {
   "cell_type": "code",
   "execution_count": 17,
   "metadata": {},
   "outputs": [
    {
     "name": "stdout",
     "output_type": "stream",
     "text": [
      "0.0\n",
      "0.0\n",
      "0\n"
     ]
    }
   ],
   "source": [
    "# null - 환불금액\n",
    "print(sum(df['환불금액'].isna())/df.shape[0])\n",
    "# 65%가 null min=\n",
    "print(df['환불금액'].min())\n",
    "# min 5600.0 이므로, 0으로 대체\n",
    "train['환불금액'] = train['환불금액'].fillna(0)\n",
    "test['환불금액'] = test['환불금액'].fillna(0)\n",
    "df['환불금액'] = df['환불금액'].fillna(0)\n",
    "print(df.isna().sum().sum())"
   ]
  },
  {
   "cell_type": "code",
   "execution_count": 18,
   "metadata": {},
   "outputs": [
    {
     "name": "stdout",
     "output_type": "stream",
     "text": [
      "기타        595\n",
      "가공식품      546\n",
      "농산물       339\n",
      "화장품       264\n",
      "시티웨어      213\n",
      "디자이너      193\n",
      "수산품       153\n",
      "캐주얼       101\n",
      "명품        100\n",
      "섬유잡화       98\n",
      "골프         82\n",
      "스포츠        69\n",
      "일용잡화       64\n",
      "육류         57\n",
      "모피/피혁      57\n",
      "남성 캐주얼     55\n",
      "구두         54\n",
      "건강식품       47\n",
      "차/커피       44\n",
      "피혁잡화       40\n",
      "아동         40\n",
      "축산가공       35\n",
      "주방용품       32\n",
      "셔츠         30\n",
      "젓갈/반찬      29\n",
      "주방가전       26\n",
      "트래디셔널      23\n",
      "남성정장       22\n",
      "생활잡화       15\n",
      "주류         14\n",
      "가구         10\n",
      "커리어         9\n",
      "대형가전        8\n",
      "란제리/내의      8\n",
      "식기          7\n",
      "액세서리        5\n",
      "침구/수예       4\n",
      "보석          3\n",
      "통신/컴퓨터      3\n",
      "악기          2\n",
      "남성 트랜디      2\n",
      "소형가전        2\n",
      "Name: 주구매상품, dtype: int64\n",
      "본  점     1077\n",
      "잠실점       474\n",
      "분당점       436\n",
      "부산본점      245\n",
      "영등포점      241\n",
      "일산점       198\n",
      "강남점       145\n",
      "광주점       114\n",
      "노원점        90\n",
      "청량리점       86\n",
      "대전점        70\n",
      "미아점        69\n",
      "부평점        57\n",
      "동래점        49\n",
      "관악점        46\n",
      "인천점        34\n",
      "안양점        29\n",
      "포항점        11\n",
      "대구점         7\n",
      "센텀시티점       6\n",
      "울산점         6\n",
      "전주점         5\n",
      "창원점         4\n",
      "상인점         1\n",
      "Name: 주구매지점, dtype: int64\n"
     ]
    }
   ],
   "source": [
    "# object - 주구매상품, 주구매지점 \n",
    "print(df['주구매상품'].value_counts())\n",
    "print(df['주구매지점'].value_counts())\n",
    "\n",
    "# label encoding"
   ]
  },
  {
   "cell_type": "code",
   "execution_count": null,
   "metadata": {},
   "outputs": [],
   "source": [
    "# corr"
   ]
  },
  {
   "cell_type": "code",
   "execution_count": null,
   "metadata": {},
   "outputs": [],
   "source": [
    "# one-hot "
   ]
  },
  {
   "cell_type": "code",
   "execution_count": null,
   "metadata": {},
   "outputs": [],
   "source": []
  },
  {
   "cell_type": "markdown",
   "metadata": {},
   "source": [
    "# 3. 분류 알고리즘 사용"
   ]
  },
  {
   "cell_type": "code",
   "execution_count": null,
   "metadata": {},
   "outputs": [],
   "source": []
  },
  {
   "cell_type": "markdown",
   "metadata": {},
   "source": [
    "# 4. 초매개변수 최적화"
   ]
  },
  {
   "cell_type": "code",
   "execution_count": null,
   "metadata": {},
   "outputs": [],
   "source": []
  },
  {
   "cell_type": "markdown",
   "metadata": {},
   "source": [
    "# 5. 모형 앙상블"
   ]
  },
  {
   "cell_type": "code",
   "execution_count": null,
   "metadata": {},
   "outputs": [],
   "source": []
  },
  {
   "cell_type": "markdown",
   "metadata": {},
   "source": [
    "# 6. 예측"
   ]
  },
  {
   "cell_type": "code",
   "execution_count": null,
   "metadata": {},
   "outputs": [],
   "source": []
  },
  {
   "cell_type": "markdown",
   "metadata": {},
   "source": [
    "# 7. 제출 "
   ]
  },
  {
   "cell_type": "code",
   "execution_count": null,
   "metadata": {},
   "outputs": [],
   "source": [
    "# 답안 제출 예시\n",
    "# 수험번호.csv 생성\n",
    "# DataFrame.to_csv(\"0000.csv\", index=False)"
   ]
  }
 ],
 "metadata": {
  "kernelspec": {
   "display_name": "Python 3",
   "language": "python",
   "name": "python3"
  },
  "language_info": {
   "codemirror_mode": {
    "name": "ipython",
    "version": 3
   },
   "file_extension": ".py",
   "mimetype": "text/x-python",
   "name": "python",
   "nbconvert_exporter": "python",
   "pygments_lexer": "ipython3",
   "version": "3.7.6"
  }
 },
 "nbformat": 4,
 "nbformat_minor": 4
}
