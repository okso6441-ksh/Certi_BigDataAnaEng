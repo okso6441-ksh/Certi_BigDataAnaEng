{
 "cells": [
  {
   "cell_type": "code",
   "execution_count": 1,
   "metadata": {},
   "outputs": [],
   "source": [
    "import pandas as pd"
   ]
  },
  {
   "cell_type": "markdown",
   "metadata": {},
   "source": [
    "# 1. 데이터 로드"
   ]
  },
  {
   "cell_type": "code",
   "execution_count": 2,
   "metadata": {},
   "outputs": [
    {
     "name": "stdout",
     "output_type": "stream",
     "text": [
      "(3500, 10) (3500, 2) (2482, 10)\n",
      "(3500, 11)\n"
     ]
    }
   ],
   "source": [
    "# 실습 환경은 인코딩 없이 진행 됨\n",
    "train = pd.read_csv('data/X_train.csv', encoding='euc-kr') \n",
    "target = pd.read_csv('data/y_train.csv')\n",
    "test = pd.read_csv('data/X_test.csv', encoding='euc-kr')\n",
    "\n",
    "print(train.shape, target.shape, test.shape)\n",
    "\n",
    "df = train.merge(target, on='cust_id', how='left')\n",
    "print(df.shape)"
   ]
  },
  {
   "cell_type": "markdown",
   "metadata": {},
   "source": [
    "# 2. 전처리 & Feature Engineering"
   ]
  },
  {
   "cell_type": "code",
   "execution_count": 3,
   "metadata": {},
   "outputs": [
    {
     "name": "stdout",
     "output_type": "stream",
     "text": [
      "<class 'pandas.core.frame.DataFrame'>\n",
      "Int64Index: 3500 entries, 0 to 3499\n",
      "Data columns (total 11 columns):\n",
      " #   Column   Non-Null Count  Dtype  \n",
      "---  ------   --------------  -----  \n",
      " 0   cust_id  3500 non-null   int64  \n",
      " 1   총구매액     3500 non-null   int64  \n",
      " 2   최대구매액    3500 non-null   int64  \n",
      " 3   환불금액     1205 non-null   float64\n",
      " 4   주구매상품    3500 non-null   object \n",
      " 5   주구매지점    3500 non-null   object \n",
      " 6   내점일수     3500 non-null   int64  \n",
      " 7   내점당구매건수  3500 non-null   float64\n",
      " 8   주말방문비율   3500 non-null   float64\n",
      " 9   구매주기     3500 non-null   int64  \n",
      " 10  gender   3500 non-null   int64  \n",
      "dtypes: float64(3), int64(6), object(2)\n",
      "memory usage: 328.1+ KB\n",
      "None\n"
     ]
    }
   ],
   "source": [
    "print(df.info())"
   ]
  },
  {
   "cell_type": "code",
   "execution_count": 4,
   "metadata": {},
   "outputs": [
    {
     "name": "stdout",
     "output_type": "stream",
     "text": [
      "cust_id \n",
      " count     3500.000000\n",
      "unique            NaN\n",
      "top               NaN\n",
      "freq              NaN\n",
      "mean      1749.500000\n",
      "std       1010.507298\n",
      "min          0.000000\n",
      "25%        874.750000\n",
      "50%       1749.500000\n",
      "75%       2624.250000\n",
      "max       3499.000000\n",
      "Name: cust_id, dtype: float64\n",
      "총구매액 \n",
      " count     3.500000e+03\n",
      "unique             NaN\n",
      "top                NaN\n",
      "freq               NaN\n",
      "mean      9.191925e+07\n",
      "std       1.635065e+08\n",
      "min      -5.242152e+07\n",
      "25%       4.747050e+06\n",
      "50%       2.822270e+07\n",
      "75%       1.065079e+08\n",
      "max       2.323180e+09\n",
      "Name: 총구매액, dtype: float64\n",
      "최대구매액 \n",
      " count     3.500000e+03\n",
      "unique             NaN\n",
      "top                NaN\n",
      "freq               NaN\n",
      "mean      1.966424e+07\n",
      "std       3.199235e+07\n",
      "min      -2.992000e+06\n",
      "25%       2.875000e+06\n",
      "50%       9.837000e+06\n",
      "75%       2.296250e+07\n",
      "max       7.066290e+08\n",
      "Name: 최대구매액, dtype: float64\n",
      "환불금액 \n",
      " count     1.205000e+03\n",
      "unique             NaN\n",
      "top                NaN\n",
      "freq               NaN\n",
      "mean      2.407822e+07\n",
      "std       4.746453e+07\n",
      "min       5.600000e+03\n",
      "25%       2.259000e+06\n",
      "50%       7.392000e+06\n",
      "75%       2.412000e+07\n",
      "max       5.637530e+08\n",
      "Name: 환불금액, dtype: float64\n",
      "주구매상품 \n",
      " count     3500\n",
      "unique      42\n",
      "top         기타\n",
      "freq       595\n",
      "mean       NaN\n",
      "std        NaN\n",
      "min        NaN\n",
      "25%        NaN\n",
      "50%        NaN\n",
      "75%        NaN\n",
      "max        NaN\n",
      "Name: 주구매상품, dtype: object\n",
      "주구매지점 \n",
      " count     3500\n",
      "unique      24\n",
      "top       본  점\n",
      "freq      1077\n",
      "mean       NaN\n",
      "std        NaN\n",
      "min        NaN\n",
      "25%        NaN\n",
      "50%        NaN\n",
      "75%        NaN\n",
      "max        NaN\n",
      "Name: 주구매지점, dtype: object\n",
      "내점일수 \n",
      " count     3500.000000\n",
      "unique            NaN\n",
      "top               NaN\n",
      "freq              NaN\n",
      "mean        19.253714\n",
      "std         27.174942\n",
      "min          1.000000\n",
      "25%          2.000000\n",
      "50%          8.000000\n",
      "75%         25.000000\n",
      "max        285.000000\n",
      "Name: 내점일수, dtype: float64\n",
      "내점당구매건수 \n",
      " count     3500.000000\n",
      "unique            NaN\n",
      "top               NaN\n",
      "freq              NaN\n",
      "mean         2.834963\n",
      "std          1.912368\n",
      "min          1.000000\n",
      "25%          1.666667\n",
      "50%          2.333333\n",
      "75%          3.375000\n",
      "max         22.083333\n",
      "Name: 내점당구매건수, dtype: float64\n",
      "주말방문비율 \n",
      " count     3500.000000\n",
      "unique            NaN\n",
      "top               NaN\n",
      "freq              NaN\n",
      "mean         0.307246\n",
      "std          0.289752\n",
      "min          0.000000\n",
      "25%          0.027291\n",
      "50%          0.256410\n",
      "75%          0.448980\n",
      "max          1.000000\n",
      "Name: 주말방문비율, dtype: float64\n",
      "구매주기 \n",
      " count     3500.000000\n",
      "unique            NaN\n",
      "top               NaN\n",
      "freq              NaN\n",
      "mean        20.958286\n",
      "std         24.748682\n",
      "min          0.000000\n",
      "25%          4.000000\n",
      "50%         13.000000\n",
      "75%         28.000000\n",
      "max        166.000000\n",
      "Name: 구매주기, dtype: float64\n",
      "gender \n",
      " count     3500.000000\n",
      "unique            NaN\n",
      "top               NaN\n",
      "freq              NaN\n",
      "mean         0.376000\n",
      "std          0.484449\n",
      "min          0.000000\n",
      "25%          0.000000\n",
      "50%          0.000000\n",
      "75%          1.000000\n",
      "max          1.000000\n",
      "Name: gender, dtype: float64\n"
     ]
    }
   ],
   "source": [
    "# 실습 환경에서 desc 짤리기 때문에 출력 추가 코딩 필요\n",
    "desc = df.describe(include=\"all\") \n",
    "\n",
    "for col in df.columns:\n",
    "    print(col,'\\n', desc[col])\n",
    "    pass"
   ]
  },
  {
   "cell_type": "code",
   "execution_count": 5,
   "metadata": {},
   "outputs": [
    {
     "name": "stdout",
     "output_type": "stream",
     "text": [
      "0.6557142857142857\n",
      "5600.0\n",
      "0\n"
     ]
    }
   ],
   "source": [
    "# null - 환불금액\n",
    "print(sum(df['환불금액'].isna())/df.shape[0])\n",
    "# 65%가 null min=\n",
    "print(df['환불금액'].min())\n",
    "# min 5600.0 이므로, 0으로 대체\n",
    "df['환불금액'] = df['환불금액'].fillna(0)\n",
    "print(df.isna().sum().sum())"
   ]
  },
  {
   "cell_type": "code",
   "execution_count": 6,
   "metadata": {},
   "outputs": [],
   "source": [
    "# object - 주구매상품, 주구매지점 \n",
    "#print(df['주구매상품'].value_counts())\n",
    "#print(df['주구매지점'].value_counts())\n",
    "\n",
    "# label encoding\n",
    "\n",
    "from sklearn.preprocessing import LabelEncoder\n",
    "enc = LabelEncoder()\n",
    "df['주구매상품'] = enc.fit_transform(df['주구매상품'])\n",
    "df['주구매지점'] = enc.fit_transform(df['주구매지점'])"
   ]
  },
  {
   "cell_type": "code",
   "execution_count": 7,
   "metadata": {},
   "outputs": [
    {
     "data": {
      "text/html": [
       "<div>\n",
       "<style scoped>\n",
       "    .dataframe tbody tr th:only-of-type {\n",
       "        vertical-align: middle;\n",
       "    }\n",
       "\n",
       "    .dataframe tbody tr th {\n",
       "        vertical-align: top;\n",
       "    }\n",
       "\n",
       "    .dataframe thead th {\n",
       "        text-align: right;\n",
       "    }\n",
       "</style>\n",
       "<table border=\"1\" class=\"dataframe\">\n",
       "  <thead>\n",
       "    <tr style=\"text-align: right;\">\n",
       "      <th></th>\n",
       "      <th>cust_id</th>\n",
       "      <th>총구매액</th>\n",
       "      <th>최대구매액</th>\n",
       "      <th>환불금액</th>\n",
       "      <th>주구매상품</th>\n",
       "      <th>주구매지점</th>\n",
       "      <th>내점일수</th>\n",
       "      <th>내점당구매건수</th>\n",
       "      <th>주말방문비율</th>\n",
       "      <th>구매주기</th>\n",
       "      <th>gender</th>\n",
       "    </tr>\n",
       "  </thead>\n",
       "  <tbody>\n",
       "    <tr>\n",
       "      <th>cust_id</th>\n",
       "      <td>NaN</td>\n",
       "      <td>NaN</td>\n",
       "      <td>NaN</td>\n",
       "      <td>NaN</td>\n",
       "      <td>NaN</td>\n",
       "      <td>NaN</td>\n",
       "      <td>NaN</td>\n",
       "      <td>NaN</td>\n",
       "      <td>NaN</td>\n",
       "      <td>NaN</td>\n",
       "      <td>NaN</td>\n",
       "    </tr>\n",
       "    <tr>\n",
       "      <th>총구매액</th>\n",
       "      <td>NaN</td>\n",
       "      <td>NaN</td>\n",
       "      <td>0.70008</td>\n",
       "      <td>NaN</td>\n",
       "      <td>NaN</td>\n",
       "      <td>NaN</td>\n",
       "      <td>NaN</td>\n",
       "      <td>NaN</td>\n",
       "      <td>NaN</td>\n",
       "      <td>NaN</td>\n",
       "      <td>NaN</td>\n",
       "    </tr>\n",
       "    <tr>\n",
       "      <th>최대구매액</th>\n",
       "      <td>NaN</td>\n",
       "      <td>0.70008</td>\n",
       "      <td>NaN</td>\n",
       "      <td>NaN</td>\n",
       "      <td>NaN</td>\n",
       "      <td>NaN</td>\n",
       "      <td>NaN</td>\n",
       "      <td>NaN</td>\n",
       "      <td>NaN</td>\n",
       "      <td>NaN</td>\n",
       "      <td>NaN</td>\n",
       "    </tr>\n",
       "    <tr>\n",
       "      <th>환불금액</th>\n",
       "      <td>NaN</td>\n",
       "      <td>NaN</td>\n",
       "      <td>NaN</td>\n",
       "      <td>NaN</td>\n",
       "      <td>NaN</td>\n",
       "      <td>NaN</td>\n",
       "      <td>NaN</td>\n",
       "      <td>NaN</td>\n",
       "      <td>NaN</td>\n",
       "      <td>NaN</td>\n",
       "      <td>NaN</td>\n",
       "    </tr>\n",
       "    <tr>\n",
       "      <th>주구매상품</th>\n",
       "      <td>NaN</td>\n",
       "      <td>NaN</td>\n",
       "      <td>NaN</td>\n",
       "      <td>NaN</td>\n",
       "      <td>NaN</td>\n",
       "      <td>NaN</td>\n",
       "      <td>NaN</td>\n",
       "      <td>NaN</td>\n",
       "      <td>NaN</td>\n",
       "      <td>NaN</td>\n",
       "      <td>NaN</td>\n",
       "    </tr>\n",
       "    <tr>\n",
       "      <th>주구매지점</th>\n",
       "      <td>NaN</td>\n",
       "      <td>NaN</td>\n",
       "      <td>NaN</td>\n",
       "      <td>NaN</td>\n",
       "      <td>NaN</td>\n",
       "      <td>NaN</td>\n",
       "      <td>NaN</td>\n",
       "      <td>NaN</td>\n",
       "      <td>NaN</td>\n",
       "      <td>NaN</td>\n",
       "      <td>NaN</td>\n",
       "    </tr>\n",
       "    <tr>\n",
       "      <th>내점일수</th>\n",
       "      <td>NaN</td>\n",
       "      <td>NaN</td>\n",
       "      <td>NaN</td>\n",
       "      <td>NaN</td>\n",
       "      <td>NaN</td>\n",
       "      <td>NaN</td>\n",
       "      <td>NaN</td>\n",
       "      <td>NaN</td>\n",
       "      <td>NaN</td>\n",
       "      <td>NaN</td>\n",
       "      <td>NaN</td>\n",
       "    </tr>\n",
       "    <tr>\n",
       "      <th>내점당구매건수</th>\n",
       "      <td>NaN</td>\n",
       "      <td>NaN</td>\n",
       "      <td>NaN</td>\n",
       "      <td>NaN</td>\n",
       "      <td>NaN</td>\n",
       "      <td>NaN</td>\n",
       "      <td>NaN</td>\n",
       "      <td>NaN</td>\n",
       "      <td>NaN</td>\n",
       "      <td>NaN</td>\n",
       "      <td>NaN</td>\n",
       "    </tr>\n",
       "    <tr>\n",
       "      <th>주말방문비율</th>\n",
       "      <td>NaN</td>\n",
       "      <td>NaN</td>\n",
       "      <td>NaN</td>\n",
       "      <td>NaN</td>\n",
       "      <td>NaN</td>\n",
       "      <td>NaN</td>\n",
       "      <td>NaN</td>\n",
       "      <td>NaN</td>\n",
       "      <td>NaN</td>\n",
       "      <td>NaN</td>\n",
       "      <td>NaN</td>\n",
       "    </tr>\n",
       "    <tr>\n",
       "      <th>구매주기</th>\n",
       "      <td>NaN</td>\n",
       "      <td>NaN</td>\n",
       "      <td>NaN</td>\n",
       "      <td>NaN</td>\n",
       "      <td>NaN</td>\n",
       "      <td>NaN</td>\n",
       "      <td>NaN</td>\n",
       "      <td>NaN</td>\n",
       "      <td>NaN</td>\n",
       "      <td>NaN</td>\n",
       "      <td>NaN</td>\n",
       "    </tr>\n",
       "    <tr>\n",
       "      <th>gender</th>\n",
       "      <td>NaN</td>\n",
       "      <td>NaN</td>\n",
       "      <td>NaN</td>\n",
       "      <td>NaN</td>\n",
       "      <td>NaN</td>\n",
       "      <td>NaN</td>\n",
       "      <td>NaN</td>\n",
       "      <td>NaN</td>\n",
       "      <td>NaN</td>\n",
       "      <td>NaN</td>\n",
       "      <td>NaN</td>\n",
       "    </tr>\n",
       "  </tbody>\n",
       "</table>\n",
       "</div>"
      ],
      "text/plain": [
       "         cust_id     총구매액    최대구매액  환불금액  주구매상품  주구매지점  내점일수  내점당구매건수  주말방문비율  \\\n",
       "cust_id      NaN      NaN      NaN   NaN    NaN    NaN   NaN      NaN     NaN   \n",
       "총구매액         NaN      NaN  0.70008   NaN    NaN    NaN   NaN      NaN     NaN   \n",
       "최대구매액        NaN  0.70008      NaN   NaN    NaN    NaN   NaN      NaN     NaN   \n",
       "환불금액         NaN      NaN      NaN   NaN    NaN    NaN   NaN      NaN     NaN   \n",
       "주구매상품        NaN      NaN      NaN   NaN    NaN    NaN   NaN      NaN     NaN   \n",
       "주구매지점        NaN      NaN      NaN   NaN    NaN    NaN   NaN      NaN     NaN   \n",
       "내점일수         NaN      NaN      NaN   NaN    NaN    NaN   NaN      NaN     NaN   \n",
       "내점당구매건수      NaN      NaN      NaN   NaN    NaN    NaN   NaN      NaN     NaN   \n",
       "주말방문비율       NaN      NaN      NaN   NaN    NaN    NaN   NaN      NaN     NaN   \n",
       "구매주기         NaN      NaN      NaN   NaN    NaN    NaN   NaN      NaN     NaN   \n",
       "gender       NaN      NaN      NaN   NaN    NaN    NaN   NaN      NaN     NaN   \n",
       "\n",
       "         구매주기  gender  \n",
       "cust_id   NaN     NaN  \n",
       "총구매액      NaN     NaN  \n",
       "최대구매액     NaN     NaN  \n",
       "환불금액      NaN     NaN  \n",
       "주구매상품     NaN     NaN  \n",
       "주구매지점     NaN     NaN  \n",
       "내점일수      NaN     NaN  \n",
       "내점당구매건수   NaN     NaN  \n",
       "주말방문비율    NaN     NaN  \n",
       "구매주기      NaN     NaN  \n",
       "gender    NaN     NaN  "
      ]
     },
     "execution_count": 7,
     "metadata": {},
     "output_type": "execute_result"
    }
   ],
   "source": [
    "# corr\n",
    "df.corr()[(abs(df.corr()) > 0.7) & (abs(df.corr()) != 1)]"
   ]
  },
  {
   "cell_type": "code",
   "execution_count": 8,
   "metadata": {},
   "outputs": [],
   "source": [
    "# one-hot \n",
    "df = pd.get_dummies(df, columns=['주구매상품','주구매지점'], drop_first=True)"
   ]
  },
  {
   "cell_type": "code",
   "execution_count": null,
   "metadata": {},
   "outputs": [],
   "source": []
  },
  {
   "cell_type": "markdown",
   "metadata": {},
   "source": [
    "# 3. 분류 알고리즘 사용"
   ]
  },
  {
   "cell_type": "code",
   "execution_count": 9,
   "metadata": {},
   "outputs": [
    {
     "data": {
      "text/plain": [
       "(2450.0, 2800.0, 3500)"
      ]
     },
     "execution_count": 9,
     "metadata": {},
     "output_type": "execute_result"
    }
   ],
   "source": [
    "train.shape[0]*0.7, train.shape[0]*0.8, train.shape[0]"
   ]
  },
  {
   "cell_type": "code",
   "execution_count": 10,
   "metadata": {},
   "outputs": [
    {
     "data": {
      "text/plain": [
       "((2450, 71), (1050, 71), (2450,), (1050,))"
      ]
     },
     "execution_count": 10,
     "metadata": {},
     "output_type": "execute_result"
    }
   ],
   "source": [
    "# 데이터 분리\n",
    "from sklearn.model_selection import train_test_split\n",
    "target = df.gender\n",
    "df.drop(['cust_id','gender'], axis=1, inplace=True)\n",
    "X_train, X_test, y_train, y_test = train_test_split(df, target, test_size=0.3, random_state=42)\n",
    "X_train.shape, X_test.shape, y_train.shape, y_test.shape"
   ]
  },
  {
   "cell_type": "code",
   "execution_count": null,
   "metadata": {},
   "outputs": [],
   "source": []
  },
  {
   "cell_type": "code",
   "execution_count": null,
   "metadata": {},
   "outputs": [],
   "source": []
  },
  {
   "cell_type": "markdown",
   "metadata": {},
   "source": [
    "# 4. 초매개변수 최적화"
   ]
  },
  {
   "cell_type": "code",
   "execution_count": null,
   "metadata": {},
   "outputs": [],
   "source": []
  },
  {
   "cell_type": "markdown",
   "metadata": {},
   "source": [
    "# 5. 모형 앙상블"
   ]
  },
  {
   "cell_type": "code",
   "execution_count": null,
   "metadata": {},
   "outputs": [],
   "source": []
  },
  {
   "cell_type": "markdown",
   "metadata": {},
   "source": [
    "# 6. 예측"
   ]
  },
  {
   "cell_type": "code",
   "execution_count": null,
   "metadata": {},
   "outputs": [],
   "source": []
  },
  {
   "cell_type": "markdown",
   "metadata": {},
   "source": [
    "# 7. 제출 "
   ]
  },
  {
   "cell_type": "code",
   "execution_count": 11,
   "metadata": {},
   "outputs": [],
   "source": [
    "# 답안 제출 예시\n",
    "# 수험번호.csv 생성\n",
    "# DataFrame.to_csv(\"0000.csv\", index=False)"
   ]
  }
 ],
 "metadata": {
  "kernelspec": {
   "display_name": "Python 3",
   "language": "python",
   "name": "python3"
  },
  "language_info": {
   "codemirror_mode": {
    "name": "ipython",
    "version": 3
   },
   "file_extension": ".py",
   "mimetype": "text/x-python",
   "name": "python",
   "nbconvert_exporter": "python",
   "pygments_lexer": "ipython3",
   "version": "3.7.6"
  }
 },
 "nbformat": 4,
 "nbformat_minor": 4
}
