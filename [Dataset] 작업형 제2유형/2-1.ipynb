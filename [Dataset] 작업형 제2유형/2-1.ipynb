{
 "cells": [
  {
   "cell_type": "code",
   "execution_count": 1,
   "metadata": {},
   "outputs": [],
   "source": [
    "import numpy as np\n",
    "import pandas as pd"
   ]
  },
  {
   "cell_type": "markdown",
   "metadata": {},
   "source": [
    "# 1. 데이터 로드"
   ]
  },
  {
   "cell_type": "code",
   "execution_count": 2,
   "metadata": {},
   "outputs": [
    {
     "name": "stdout",
     "output_type": "stream",
     "text": [
      "(3500, 10) (3500, 2) (2482, 10)\n",
      "(3500, 11)\n"
     ]
    }
   ],
   "source": [
    "# 실습 환경은 인코딩 없이 진행 됨\n",
    "train = pd.read_csv('data/X_train.csv', encoding='euc-kr') \n",
    "target = pd.read_csv('data/y_train.csv')\n",
    "test = pd.read_csv('data/X_test.csv', encoding='euc-kr')\n",
    "\n",
    "print(train.shape, target.shape, test.shape)\n",
    "\n",
    "df = train.merge(target, on='cust_id', how='left')\n",
    "print(df.shape)"
   ]
  },
  {
   "cell_type": "markdown",
   "metadata": {},
   "source": [
    "# 2. 전처리 & Feature Engineering"
   ]
  },
  {
   "cell_type": "code",
   "execution_count": 3,
   "metadata": {},
   "outputs": [
    {
     "name": "stdout",
     "output_type": "stream",
     "text": [
      "<class 'pandas.core.frame.DataFrame'>\n",
      "Int64Index: 3500 entries, 0 to 3499\n",
      "Data columns (total 11 columns):\n",
      " #   Column   Non-Null Count  Dtype  \n",
      "---  ------   --------------  -----  \n",
      " 0   cust_id  3500 non-null   int64  \n",
      " 1   총구매액     3500 non-null   int64  \n",
      " 2   최대구매액    3500 non-null   int64  \n",
      " 3   환불금액     1205 non-null   float64\n",
      " 4   주구매상품    3500 non-null   object \n",
      " 5   주구매지점    3500 non-null   object \n",
      " 6   내점일수     3500 non-null   int64  \n",
      " 7   내점당구매건수  3500 non-null   float64\n",
      " 8   주말방문비율   3500 non-null   float64\n",
      " 9   구매주기     3500 non-null   int64  \n",
      " 10  gender   3500 non-null   int64  \n",
      "dtypes: float64(3), int64(6), object(2)\n",
      "memory usage: 328.1+ KB\n",
      "None\n"
     ]
    }
   ],
   "source": [
    "print(df.info())"
   ]
  },
  {
   "cell_type": "code",
   "execution_count": 4,
   "metadata": {},
   "outputs": [
    {
     "name": "stdout",
     "output_type": "stream",
     "text": [
      "cust_id \n",
      " count     3500.000000\n",
      "unique            NaN\n",
      "top               NaN\n",
      "freq              NaN\n",
      "mean      1749.500000\n",
      "std       1010.507298\n",
      "min          0.000000\n",
      "25%        874.750000\n",
      "50%       1749.500000\n",
      "75%       2624.250000\n",
      "max       3499.000000\n",
      "Name: cust_id, dtype: float64\n",
      "총구매액 \n",
      " count     3.500000e+03\n",
      "unique             NaN\n",
      "top                NaN\n",
      "freq               NaN\n",
      "mean      9.191925e+07\n",
      "std       1.635065e+08\n",
      "min      -5.242152e+07\n",
      "25%       4.747050e+06\n",
      "50%       2.822270e+07\n",
      "75%       1.065079e+08\n",
      "max       2.323180e+09\n",
      "Name: 총구매액, dtype: float64\n",
      "최대구매액 \n",
      " count     3.500000e+03\n",
      "unique             NaN\n",
      "top                NaN\n",
      "freq               NaN\n",
      "mean      1.966424e+07\n",
      "std       3.199235e+07\n",
      "min      -2.992000e+06\n",
      "25%       2.875000e+06\n",
      "50%       9.837000e+06\n",
      "75%       2.296250e+07\n",
      "max       7.066290e+08\n",
      "Name: 최대구매액, dtype: float64\n",
      "환불금액 \n",
      " count     1.205000e+03\n",
      "unique             NaN\n",
      "top                NaN\n",
      "freq               NaN\n",
      "mean      2.407822e+07\n",
      "std       4.746453e+07\n",
      "min       5.600000e+03\n",
      "25%       2.259000e+06\n",
      "50%       7.392000e+06\n",
      "75%       2.412000e+07\n",
      "max       5.637530e+08\n",
      "Name: 환불금액, dtype: float64\n",
      "주구매상품 \n",
      " count     3500\n",
      "unique      42\n",
      "top         기타\n",
      "freq       595\n",
      "mean       NaN\n",
      "std        NaN\n",
      "min        NaN\n",
      "25%        NaN\n",
      "50%        NaN\n",
      "75%        NaN\n",
      "max        NaN\n",
      "Name: 주구매상품, dtype: object\n",
      "주구매지점 \n",
      " count     3500\n",
      "unique      24\n",
      "top       본  점\n",
      "freq      1077\n",
      "mean       NaN\n",
      "std        NaN\n",
      "min        NaN\n",
      "25%        NaN\n",
      "50%        NaN\n",
      "75%        NaN\n",
      "max        NaN\n",
      "Name: 주구매지점, dtype: object\n",
      "내점일수 \n",
      " count     3500.000000\n",
      "unique            NaN\n",
      "top               NaN\n",
      "freq              NaN\n",
      "mean        19.253714\n",
      "std         27.174942\n",
      "min          1.000000\n",
      "25%          2.000000\n",
      "50%          8.000000\n",
      "75%         25.000000\n",
      "max        285.000000\n",
      "Name: 내점일수, dtype: float64\n",
      "내점당구매건수 \n",
      " count     3500.000000\n",
      "unique            NaN\n",
      "top               NaN\n",
      "freq              NaN\n",
      "mean         2.834963\n",
      "std          1.912368\n",
      "min          1.000000\n",
      "25%          1.666667\n",
      "50%          2.333333\n",
      "75%          3.375000\n",
      "max         22.083333\n",
      "Name: 내점당구매건수, dtype: float64\n",
      "주말방문비율 \n",
      " count     3500.000000\n",
      "unique            NaN\n",
      "top               NaN\n",
      "freq              NaN\n",
      "mean         0.307246\n",
      "std          0.289752\n",
      "min          0.000000\n",
      "25%          0.027291\n",
      "50%          0.256410\n",
      "75%          0.448980\n",
      "max          1.000000\n",
      "Name: 주말방문비율, dtype: float64\n",
      "구매주기 \n",
      " count     3500.000000\n",
      "unique            NaN\n",
      "top               NaN\n",
      "freq              NaN\n",
      "mean        20.958286\n",
      "std         24.748682\n",
      "min          0.000000\n",
      "25%          4.000000\n",
      "50%         13.000000\n",
      "75%         28.000000\n",
      "max        166.000000\n",
      "Name: 구매주기, dtype: float64\n",
      "gender \n",
      " count     3500.000000\n",
      "unique            NaN\n",
      "top               NaN\n",
      "freq              NaN\n",
      "mean         0.376000\n",
      "std          0.484449\n",
      "min          0.000000\n",
      "25%          0.000000\n",
      "50%          0.000000\n",
      "75%          1.000000\n",
      "max          1.000000\n",
      "Name: gender, dtype: float64\n"
     ]
    }
   ],
   "source": [
    "# 실습 환경에서 desc 짤리기 때문에 출력 추가 코딩 필요\n",
    "desc = df.describe(include=\"all\") \n",
    "\n",
    "for col in df.columns:\n",
    "    print(col,'\\n', desc[col])\n",
    "    pass"
   ]
  },
  {
   "cell_type": "code",
   "execution_count": 5,
   "metadata": {},
   "outputs": [
    {
     "name": "stdout",
     "output_type": "stream",
     "text": [
      "0.6557142857142857\n",
      "5600.0\n",
      "0\n"
     ]
    }
   ],
   "source": [
    "# null - 환불금액\n",
    "print(sum(df['환불금액'].isna())/df.shape[0])\n",
    "# 65%가 null min=\n",
    "print(df['환불금액'].min())\n",
    "# min 5600.0 이므로, 0으로 대체\n",
    "df['환불금액'] = df['환불금액'].fillna(0)\n",
    "print(df.isna().sum().sum())"
   ]
  },
  {
   "cell_type": "code",
   "execution_count": null,
   "metadata": {},
   "outputs": [],
   "source": []
  },
  {
   "cell_type": "code",
   "execution_count": null,
   "metadata": {},
   "outputs": [],
   "source": [
    "import scipy.stats\n",
    "#dir(scipy.stats)"
   ]
  },
  {
   "cell_type": "code",
   "execution_count": null,
   "metadata": {},
   "outputs": [],
   "source": [
    "from scipy.stats import skew, kurtosis\n",
    "\n",
    "df.dtypes\n",
    "\"\"\"\n",
    "총구매액         int64\n",
    "최대구매액        int64\n",
    "환불금액       float64\n",
    "내점일수         int64\n",
    "내점당구매건수    float64\n",
    "주말방문비율     float64\n",
    "구매주기         int64\n",
    "gender       int64\n",
    "\"\"\"\n",
    "num_type = ['총구매액','최대구매액','환불금액','내점일수','내점당구매건수','주말방문비율','구매주기','gender']\n",
    "\n",
    "df[num_type].apply(lambda x : skew(x)).sort_values()\n",
    "\n",
    "df['총구매액'] = np.log1p(df['총구매액'])\n",
    "df['최대구매액'] = np.log1p(df['최대구매액'])\n",
    "df['환불금액'] = np.log1p(df['환불금액'])"
   ]
  },
  {
   "cell_type": "code",
   "execution_count": null,
   "metadata": {},
   "outputs": [],
   "source": []
  },
  {
   "cell_type": "code",
   "execution_count": 6,
   "metadata": {},
   "outputs": [],
   "source": [
    "# object - 주구매상품, 주구매지점 \n",
    "#print(df['주구매상품'].value_counts())\n",
    "#print(df['주구매지점'].value_counts())\n",
    "\n",
    "# label encoding\n",
    "\n",
    "from sklearn.preprocessing import LabelEncoder\n",
    "enc = LabelEncoder()\n",
    "df['주구매상품'] = enc.fit_transform(df['주구매상품'])\n",
    "df['주구매지점'] = enc.fit_transform(df['주구매지점'])"
   ]
  },
  {
   "cell_type": "code",
   "execution_count": 7,
   "metadata": {},
   "outputs": [
    {
     "data": {
      "text/html": [
       "<div>\n",
       "<style scoped>\n",
       "    .dataframe tbody tr th:only-of-type {\n",
       "        vertical-align: middle;\n",
       "    }\n",
       "\n",
       "    .dataframe tbody tr th {\n",
       "        vertical-align: top;\n",
       "    }\n",
       "\n",
       "    .dataframe thead th {\n",
       "        text-align: right;\n",
       "    }\n",
       "</style>\n",
       "<table border=\"1\" class=\"dataframe\">\n",
       "  <thead>\n",
       "    <tr style=\"text-align: right;\">\n",
       "      <th></th>\n",
       "      <th>cust_id</th>\n",
       "      <th>총구매액</th>\n",
       "      <th>최대구매액</th>\n",
       "      <th>환불금액</th>\n",
       "      <th>주구매상품</th>\n",
       "      <th>주구매지점</th>\n",
       "      <th>내점일수</th>\n",
       "      <th>내점당구매건수</th>\n",
       "      <th>주말방문비율</th>\n",
       "      <th>구매주기</th>\n",
       "      <th>gender</th>\n",
       "    </tr>\n",
       "  </thead>\n",
       "  <tbody>\n",
       "    <tr>\n",
       "      <th>cust_id</th>\n",
       "      <td>NaN</td>\n",
       "      <td>NaN</td>\n",
       "      <td>NaN</td>\n",
       "      <td>NaN</td>\n",
       "      <td>NaN</td>\n",
       "      <td>NaN</td>\n",
       "      <td>NaN</td>\n",
       "      <td>NaN</td>\n",
       "      <td>NaN</td>\n",
       "      <td>NaN</td>\n",
       "      <td>NaN</td>\n",
       "    </tr>\n",
       "    <tr>\n",
       "      <th>총구매액</th>\n",
       "      <td>NaN</td>\n",
       "      <td>NaN</td>\n",
       "      <td>0.70008</td>\n",
       "      <td>NaN</td>\n",
       "      <td>NaN</td>\n",
       "      <td>NaN</td>\n",
       "      <td>NaN</td>\n",
       "      <td>NaN</td>\n",
       "      <td>NaN</td>\n",
       "      <td>NaN</td>\n",
       "      <td>NaN</td>\n",
       "    </tr>\n",
       "    <tr>\n",
       "      <th>최대구매액</th>\n",
       "      <td>NaN</td>\n",
       "      <td>0.70008</td>\n",
       "      <td>NaN</td>\n",
       "      <td>NaN</td>\n",
       "      <td>NaN</td>\n",
       "      <td>NaN</td>\n",
       "      <td>NaN</td>\n",
       "      <td>NaN</td>\n",
       "      <td>NaN</td>\n",
       "      <td>NaN</td>\n",
       "      <td>NaN</td>\n",
       "    </tr>\n",
       "    <tr>\n",
       "      <th>환불금액</th>\n",
       "      <td>NaN</td>\n",
       "      <td>NaN</td>\n",
       "      <td>NaN</td>\n",
       "      <td>NaN</td>\n",
       "      <td>NaN</td>\n",
       "      <td>NaN</td>\n",
       "      <td>NaN</td>\n",
       "      <td>NaN</td>\n",
       "      <td>NaN</td>\n",
       "      <td>NaN</td>\n",
       "      <td>NaN</td>\n",
       "    </tr>\n",
       "    <tr>\n",
       "      <th>주구매상품</th>\n",
       "      <td>NaN</td>\n",
       "      <td>NaN</td>\n",
       "      <td>NaN</td>\n",
       "      <td>NaN</td>\n",
       "      <td>NaN</td>\n",
       "      <td>NaN</td>\n",
       "      <td>NaN</td>\n",
       "      <td>NaN</td>\n",
       "      <td>NaN</td>\n",
       "      <td>NaN</td>\n",
       "      <td>NaN</td>\n",
       "    </tr>\n",
       "    <tr>\n",
       "      <th>주구매지점</th>\n",
       "      <td>NaN</td>\n",
       "      <td>NaN</td>\n",
       "      <td>NaN</td>\n",
       "      <td>NaN</td>\n",
       "      <td>NaN</td>\n",
       "      <td>NaN</td>\n",
       "      <td>NaN</td>\n",
       "      <td>NaN</td>\n",
       "      <td>NaN</td>\n",
       "      <td>NaN</td>\n",
       "      <td>NaN</td>\n",
       "    </tr>\n",
       "    <tr>\n",
       "      <th>내점일수</th>\n",
       "      <td>NaN</td>\n",
       "      <td>NaN</td>\n",
       "      <td>NaN</td>\n",
       "      <td>NaN</td>\n",
       "      <td>NaN</td>\n",
       "      <td>NaN</td>\n",
       "      <td>NaN</td>\n",
       "      <td>NaN</td>\n",
       "      <td>NaN</td>\n",
       "      <td>NaN</td>\n",
       "      <td>NaN</td>\n",
       "    </tr>\n",
       "    <tr>\n",
       "      <th>내점당구매건수</th>\n",
       "      <td>NaN</td>\n",
       "      <td>NaN</td>\n",
       "      <td>NaN</td>\n",
       "      <td>NaN</td>\n",
       "      <td>NaN</td>\n",
       "      <td>NaN</td>\n",
       "      <td>NaN</td>\n",
       "      <td>NaN</td>\n",
       "      <td>NaN</td>\n",
       "      <td>NaN</td>\n",
       "      <td>NaN</td>\n",
       "    </tr>\n",
       "    <tr>\n",
       "      <th>주말방문비율</th>\n",
       "      <td>NaN</td>\n",
       "      <td>NaN</td>\n",
       "      <td>NaN</td>\n",
       "      <td>NaN</td>\n",
       "      <td>NaN</td>\n",
       "      <td>NaN</td>\n",
       "      <td>NaN</td>\n",
       "      <td>NaN</td>\n",
       "      <td>NaN</td>\n",
       "      <td>NaN</td>\n",
       "      <td>NaN</td>\n",
       "    </tr>\n",
       "    <tr>\n",
       "      <th>구매주기</th>\n",
       "      <td>NaN</td>\n",
       "      <td>NaN</td>\n",
       "      <td>NaN</td>\n",
       "      <td>NaN</td>\n",
       "      <td>NaN</td>\n",
       "      <td>NaN</td>\n",
       "      <td>NaN</td>\n",
       "      <td>NaN</td>\n",
       "      <td>NaN</td>\n",
       "      <td>NaN</td>\n",
       "      <td>NaN</td>\n",
       "    </tr>\n",
       "    <tr>\n",
       "      <th>gender</th>\n",
       "      <td>NaN</td>\n",
       "      <td>NaN</td>\n",
       "      <td>NaN</td>\n",
       "      <td>NaN</td>\n",
       "      <td>NaN</td>\n",
       "      <td>NaN</td>\n",
       "      <td>NaN</td>\n",
       "      <td>NaN</td>\n",
       "      <td>NaN</td>\n",
       "      <td>NaN</td>\n",
       "      <td>NaN</td>\n",
       "    </tr>\n",
       "  </tbody>\n",
       "</table>\n",
       "</div>"
      ],
      "text/plain": [
       "         cust_id     총구매액    최대구매액  환불금액  주구매상품  주구매지점  내점일수  내점당구매건수  주말방문비율  \\\n",
       "cust_id      NaN      NaN      NaN   NaN    NaN    NaN   NaN      NaN     NaN   \n",
       "총구매액         NaN      NaN  0.70008   NaN    NaN    NaN   NaN      NaN     NaN   \n",
       "최대구매액        NaN  0.70008      NaN   NaN    NaN    NaN   NaN      NaN     NaN   \n",
       "환불금액         NaN      NaN      NaN   NaN    NaN    NaN   NaN      NaN     NaN   \n",
       "주구매상품        NaN      NaN      NaN   NaN    NaN    NaN   NaN      NaN     NaN   \n",
       "주구매지점        NaN      NaN      NaN   NaN    NaN    NaN   NaN      NaN     NaN   \n",
       "내점일수         NaN      NaN      NaN   NaN    NaN    NaN   NaN      NaN     NaN   \n",
       "내점당구매건수      NaN      NaN      NaN   NaN    NaN    NaN   NaN      NaN     NaN   \n",
       "주말방문비율       NaN      NaN      NaN   NaN    NaN    NaN   NaN      NaN     NaN   \n",
       "구매주기         NaN      NaN      NaN   NaN    NaN    NaN   NaN      NaN     NaN   \n",
       "gender       NaN      NaN      NaN   NaN    NaN    NaN   NaN      NaN     NaN   \n",
       "\n",
       "         구매주기  gender  \n",
       "cust_id   NaN     NaN  \n",
       "총구매액      NaN     NaN  \n",
       "최대구매액     NaN     NaN  \n",
       "환불금액      NaN     NaN  \n",
       "주구매상품     NaN     NaN  \n",
       "주구매지점     NaN     NaN  \n",
       "내점일수      NaN     NaN  \n",
       "내점당구매건수   NaN     NaN  \n",
       "주말방문비율    NaN     NaN  \n",
       "구매주기      NaN     NaN  \n",
       "gender    NaN     NaN  "
      ]
     },
     "execution_count": 7,
     "metadata": {},
     "output_type": "execute_result"
    }
   ],
   "source": [
    "# corr\n",
    "df.corr()[(abs(df.corr()) > 0.7) & (abs(df.corr()) != 1)]"
   ]
  },
  {
   "cell_type": "code",
   "execution_count": 8,
   "metadata": {},
   "outputs": [],
   "source": [
    "df.drop('최대구매액', axis=1, inplace=True)"
   ]
  },
  {
   "cell_type": "code",
   "execution_count": 9,
   "metadata": {},
   "outputs": [],
   "source": [
    "# one-hot \n",
    "df = pd.get_dummies(df, columns=['주구매상품','주구매지점'], drop_first=True)"
   ]
  },
  {
   "cell_type": "code",
   "execution_count": null,
   "metadata": {},
   "outputs": [],
   "source": []
  },
  {
   "cell_type": "markdown",
   "metadata": {},
   "source": [
    "# 3. 분류 알고리즘 사용"
   ]
  },
  {
   "cell_type": "code",
   "execution_count": 10,
   "metadata": {},
   "outputs": [
    {
     "data": {
      "text/plain": [
       "((2450, 70), (1050, 70), (2450,), (1050,))"
      ]
     },
     "execution_count": 10,
     "metadata": {},
     "output_type": "execute_result"
    }
   ],
   "source": [
    "# 데이터 분리\n",
    "from sklearn.model_selection import train_test_split\n",
    "target = df.gender\n",
    "df.drop(['cust_id','gender'], axis=1, inplace=True)\n",
    "X_train, X_test, y_train, y_test = train_test_split(df, target, test_size=0.3, random_state=42)\n",
    "X_train.shape, X_test.shape, y_train.shape, y_test.shape"
   ]
  },
  {
   "cell_type": "code",
   "execution_count": null,
   "metadata": {},
   "outputs": [],
   "source": []
  },
  {
   "cell_type": "code",
   "execution_count": 11,
   "metadata": {},
   "outputs": [],
   "source": [
    "from sklearn.ensemble import VotingClassifier, RandomForestClassifier, GradientBoostingClassifier\n",
    "\n",
    "from sklearn.tree import DecisionTreeClassifier"
   ]
  },
  {
   "cell_type": "code",
   "execution_count": 18,
   "metadata": {},
   "outputs": [
    {
     "data": {
      "text/plain": [
       "GradientBoostingClassifier()"
      ]
     },
     "execution_count": 18,
     "metadata": {},
     "output_type": "execute_result"
    }
   ],
   "source": [
    "\n",
    "#dir(sklearn.ensemble)\n",
    "#help(sklearn.ensemble.RandomForestClassifier)\n",
    "rfc = RandomForestClassifier()\n",
    "gbc = GradientBoostingClassifier()\n",
    "\n",
    "#rfc.fit(X_train, y_train)\n",
    "#gbc.fit(X_train, y_train)"
   ]
  },
  {
   "cell_type": "markdown",
   "metadata": {},
   "source": [
    "# 4. 초매개변수 최적화"
   ]
  },
  {
   "cell_type": "code",
   "execution_count": null,
   "metadata": {},
   "outputs": [],
   "source": []
  },
  {
   "cell_type": "markdown",
   "metadata": {},
   "source": [
    "# 5. 모형 앙상블"
   ]
  },
  {
   "cell_type": "code",
   "execution_count": 21,
   "metadata": {},
   "outputs": [
    {
     "data": {
      "text/plain": [
       "VotingClassifier(estimators=[('rfc', RandomForestClassifier()),\n",
       "                             ('gbc', GradientBoostingClassifier())],\n",
       "                 voting='soft')"
      ]
     },
     "execution_count": 21,
     "metadata": {},
     "output_type": "execute_result"
    }
   ],
   "source": [
    "vot = VotingClassifier(estimators=[\n",
    "    ('rfc',rfc), ('gbc',gbc)\n",
    "], voting='soft')\n",
    "\n",
    "\n",
    "vot.fit(X_train, y_train)"
   ]
  },
  {
   "cell_type": "code",
   "execution_count": null,
   "metadata": {},
   "outputs": [],
   "source": []
  },
  {
   "cell_type": "code",
   "execution_count": 38,
   "metadata": {},
   "outputs": [
    {
     "name": "stderr",
     "output_type": "stream",
     "text": [
      "C:\\Users\\okso6\\anaconda3\\lib\\site-packages\\sklearn\\model_selection\\_split.py:297: FutureWarning: Setting a random_state has no effect since shuffle is False. This will raise an error in 0.24. You should leave random_state to its default (None), or set shuffle=True.\n",
      "  FutureWarning\n"
     ]
    },
    {
     "data": {
      "text/plain": [
       "<generator object _BaseKFold.split at 0x000001DFBFC2A348>"
      ]
     },
     "execution_count": 38,
     "metadata": {},
     "output_type": "execute_result"
    }
   ],
   "source": [
    "from sklearn.model_selection import KFold\n",
    "\n",
    "kf = KFold(n_splits=3, random_state=42)\n",
    "kf.split(X_train, y_train)"
   ]
  },
  {
   "cell_type": "code",
   "execution_count": null,
   "metadata": {},
   "outputs": [],
   "source": []
  },
  {
   "cell_type": "code",
   "execution_count": 35,
   "metadata": {},
   "outputs": [
    {
     "data": {
      "text/plain": [
       "array([0.66100841, 0.66527322, 0.67567051])"
      ]
     },
     "execution_count": 35,
     "metadata": {},
     "output_type": "execute_result"
    }
   ],
   "source": [
    "from sklearn.model_selection import cross_val_score\n",
    "#help(cross_val_score)\n",
    "score = cross_val_score(vot, df, target, scoring=\"roc_auc\", cv=3)\n",
    "score"
   ]
  },
  {
   "cell_type": "markdown",
   "metadata": {},
   "source": [
    "# 6. 예측"
   ]
  },
  {
   "cell_type": "code",
   "execution_count": 16,
   "metadata": {},
   "outputs": [],
   "source": [
    "from sklearn.metrics import roc_auc_score"
   ]
  },
  {
   "cell_type": "code",
   "execution_count": 22,
   "metadata": {},
   "outputs": [
    {
     "data": {
      "text/plain": [
       "0.6293410940266126"
      ]
     },
     "execution_count": 22,
     "metadata": {},
     "output_type": "execute_result"
    }
   ],
   "source": [
    "pred = vot.predict(X_test)\n",
    "roc_auc_score(pred, y_test)"
   ]
  },
  {
   "cell_type": "markdown",
   "metadata": {},
   "source": [
    "# 7. 제출 "
   ]
  },
  {
   "cell_type": "code",
   "execution_count": 25,
   "metadata": {},
   "outputs": [
    {
     "data": {
      "text/html": [
       "<div>\n",
       "<style scoped>\n",
       "    .dataframe tbody tr th:only-of-type {\n",
       "        vertical-align: middle;\n",
       "    }\n",
       "\n",
       "    .dataframe tbody tr th {\n",
       "        vertical-align: top;\n",
       "    }\n",
       "\n",
       "    .dataframe thead th {\n",
       "        text-align: right;\n",
       "    }\n",
       "</style>\n",
       "<table border=\"1\" class=\"dataframe\">\n",
       "  <thead>\n",
       "    <tr style=\"text-align: right;\">\n",
       "      <th></th>\n",
       "      <th>cust_id</th>\n",
       "      <th>총구매액</th>\n",
       "      <th>최대구매액</th>\n",
       "      <th>환불금액</th>\n",
       "      <th>주구매상품</th>\n",
       "      <th>주구매지점</th>\n",
       "      <th>내점일수</th>\n",
       "      <th>내점당구매건수</th>\n",
       "      <th>주말방문비율</th>\n",
       "      <th>구매주기</th>\n",
       "    </tr>\n",
       "  </thead>\n",
       "  <tbody>\n",
       "    <tr>\n",
       "      <th>0</th>\n",
       "      <td>3500</td>\n",
       "      <td>70900400</td>\n",
       "      <td>22000000</td>\n",
       "      <td>4050000.0</td>\n",
       "      <td>골프</td>\n",
       "      <td>부산본점</td>\n",
       "      <td>13</td>\n",
       "      <td>1.461538</td>\n",
       "      <td>0.789474</td>\n",
       "      <td>26</td>\n",
       "    </tr>\n",
       "    <tr>\n",
       "      <th>1</th>\n",
       "      <td>3501</td>\n",
       "      <td>310533100</td>\n",
       "      <td>38558000</td>\n",
       "      <td>48034700.0</td>\n",
       "      <td>농산물</td>\n",
       "      <td>잠실점</td>\n",
       "      <td>90</td>\n",
       "      <td>2.433333</td>\n",
       "      <td>0.369863</td>\n",
       "      <td>3</td>\n",
       "    </tr>\n",
       "    <tr>\n",
       "      <th>2</th>\n",
       "      <td>3502</td>\n",
       "      <td>305264140</td>\n",
       "      <td>14825000</td>\n",
       "      <td>30521000.0</td>\n",
       "      <td>가공식품</td>\n",
       "      <td>본  점</td>\n",
       "      <td>101</td>\n",
       "      <td>14.623762</td>\n",
       "      <td>0.083277</td>\n",
       "      <td>3</td>\n",
       "    </tr>\n",
       "    <tr>\n",
       "      <th>3</th>\n",
       "      <td>3503</td>\n",
       "      <td>7594080</td>\n",
       "      <td>5225000</td>\n",
       "      <td>NaN</td>\n",
       "      <td>주방용품</td>\n",
       "      <td>부산본점</td>\n",
       "      <td>5</td>\n",
       "      <td>2.000000</td>\n",
       "      <td>0.000000</td>\n",
       "      <td>47</td>\n",
       "    </tr>\n",
       "    <tr>\n",
       "      <th>4</th>\n",
       "      <td>3504</td>\n",
       "      <td>1795790</td>\n",
       "      <td>1411200</td>\n",
       "      <td>NaN</td>\n",
       "      <td>수산품</td>\n",
       "      <td>청량리점</td>\n",
       "      <td>3</td>\n",
       "      <td>2.666667</td>\n",
       "      <td>0.125000</td>\n",
       "      <td>8</td>\n",
       "    </tr>\n",
       "    <tr>\n",
       "      <th>...</th>\n",
       "      <td>...</td>\n",
       "      <td>...</td>\n",
       "      <td>...</td>\n",
       "      <td>...</td>\n",
       "      <td>...</td>\n",
       "      <td>...</td>\n",
       "      <td>...</td>\n",
       "      <td>...</td>\n",
       "      <td>...</td>\n",
       "      <td>...</td>\n",
       "    </tr>\n",
       "    <tr>\n",
       "      <th>2477</th>\n",
       "      <td>5977</td>\n",
       "      <td>82581500</td>\n",
       "      <td>23976000</td>\n",
       "      <td>NaN</td>\n",
       "      <td>골프</td>\n",
       "      <td>부산본점</td>\n",
       "      <td>8</td>\n",
       "      <td>1.750000</td>\n",
       "      <td>0.642857</td>\n",
       "      <td>40</td>\n",
       "    </tr>\n",
       "    <tr>\n",
       "      <th>2478</th>\n",
       "      <td>5978</td>\n",
       "      <td>480000</td>\n",
       "      <td>480000</td>\n",
       "      <td>NaN</td>\n",
       "      <td>섬유잡화</td>\n",
       "      <td>광주점</td>\n",
       "      <td>1</td>\n",
       "      <td>1.000000</td>\n",
       "      <td>0.000000</td>\n",
       "      <td>0</td>\n",
       "    </tr>\n",
       "    <tr>\n",
       "      <th>2479</th>\n",
       "      <td>5979</td>\n",
       "      <td>260003790</td>\n",
       "      <td>25750000</td>\n",
       "      <td>NaN</td>\n",
       "      <td>남성 캐주얼</td>\n",
       "      <td>본  점</td>\n",
       "      <td>19</td>\n",
       "      <td>3.736842</td>\n",
       "      <td>0.915493</td>\n",
       "      <td>18</td>\n",
       "    </tr>\n",
       "    <tr>\n",
       "      <th>2480</th>\n",
       "      <td>5980</td>\n",
       "      <td>88991520</td>\n",
       "      <td>18120000</td>\n",
       "      <td>NaN</td>\n",
       "      <td>육류</td>\n",
       "      <td>본  점</td>\n",
       "      <td>5</td>\n",
       "      <td>3.600000</td>\n",
       "      <td>0.444444</td>\n",
       "      <td>60</td>\n",
       "    </tr>\n",
       "    <tr>\n",
       "      <th>2481</th>\n",
       "      <td>5981</td>\n",
       "      <td>623700</td>\n",
       "      <td>209000</td>\n",
       "      <td>NaN</td>\n",
       "      <td>가공식품</td>\n",
       "      <td>영등포점</td>\n",
       "      <td>2</td>\n",
       "      <td>5.000000</td>\n",
       "      <td>0.000000</td>\n",
       "      <td>31</td>\n",
       "    </tr>\n",
       "  </tbody>\n",
       "</table>\n",
       "<p>2482 rows × 10 columns</p>\n",
       "</div>"
      ],
      "text/plain": [
       "      cust_id       총구매액     최대구매액        환불금액   주구매상품 주구매지점  내점일수    내점당구매건수  \\\n",
       "0        3500   70900400  22000000   4050000.0      골프  부산본점    13   1.461538   \n",
       "1        3501  310533100  38558000  48034700.0     농산물   잠실점    90   2.433333   \n",
       "2        3502  305264140  14825000  30521000.0    가공식품  본  점   101  14.623762   \n",
       "3        3503    7594080   5225000         NaN    주방용품  부산본점     5   2.000000   \n",
       "4        3504    1795790   1411200         NaN     수산품  청량리점     3   2.666667   \n",
       "...       ...        ...       ...         ...     ...   ...   ...        ...   \n",
       "2477     5977   82581500  23976000         NaN      골프  부산본점     8   1.750000   \n",
       "2478     5978     480000    480000         NaN    섬유잡화   광주점     1   1.000000   \n",
       "2479     5979  260003790  25750000         NaN  남성 캐주얼  본  점    19   3.736842   \n",
       "2480     5980   88991520  18120000         NaN      육류  본  점     5   3.600000   \n",
       "2481     5981     623700    209000         NaN    가공식품  영등포점     2   5.000000   \n",
       "\n",
       "        주말방문비율  구매주기  \n",
       "0     0.789474    26  \n",
       "1     0.369863     3  \n",
       "2     0.083277     3  \n",
       "3     0.000000    47  \n",
       "4     0.125000     8  \n",
       "...        ...   ...  \n",
       "2477  0.642857    40  \n",
       "2478  0.000000     0  \n",
       "2479  0.915493    18  \n",
       "2480  0.444444    60  \n",
       "2481  0.000000    31  \n",
       "\n",
       "[2482 rows x 10 columns]"
      ]
     },
     "execution_count": 25,
     "metadata": {},
     "output_type": "execute_result"
    }
   ],
   "source": [
    "test"
   ]
  },
  {
   "cell_type": "code",
   "execution_count": 23,
   "metadata": {},
   "outputs": [
    {
     "data": {
      "text/plain": [
       "array([1, 1, 0, ..., 0, 0, 0], dtype=int64)"
      ]
     },
     "execution_count": 23,
     "metadata": {},
     "output_type": "execute_result"
    }
   ],
   "source": [
    "pred"
   ]
  },
  {
   "cell_type": "code",
   "execution_count": null,
   "metadata": {},
   "outputs": [],
   "source": [
    "# 답안 제출 예시\n",
    "# 수험번호.csv 생성\n",
    "# DataFrame.to_csv(\"0000.csv\", index=False)\n"
   ]
  }
 ],
 "metadata": {
  "kernelspec": {
   "display_name": "Python 3",
   "language": "python",
   "name": "python3"
  },
  "language_info": {
   "codemirror_mode": {
    "name": "ipython",
    "version": 3
   },
   "file_extension": ".py",
   "mimetype": "text/x-python",
   "name": "python",
   "nbconvert_exporter": "python",
   "pygments_lexer": "ipython3",
   "version": "3.7.6"
  }
 },
 "nbformat": 4,
 "nbformat_minor": 4
}
