{
 "cells": [
  {
   "cell_type": "code",
   "execution_count": 1,
   "metadata": {},
   "outputs": [],
   "source": [
    "import numpy as np\n",
    "import pandas as pd\n",
    "import warnings\n",
    "warnings.filterwarnings('ignore')"
   ]
  },
  {
   "cell_type": "code",
   "execution_count": 2,
   "metadata": {},
   "outputs": [],
   "source": [
    "pd.set_option('max_rows', None)\n",
    "pd.set_option('max_columns', None)"
   ]
  },
  {
   "cell_type": "markdown",
   "metadata": {},
   "source": [
    "# 1. 데이터 로드"
   ]
  },
  {
   "cell_type": "code",
   "execution_count": 3,
   "metadata": {},
   "outputs": [
    {
     "name": "stdout",
     "output_type": "stream",
     "text": [
      "(3500, 10) (3500, 2) (2482, 10)\n",
      "(3500, 11)\n"
     ]
    }
   ],
   "source": [
    "# 실습 환경은 인코딩 없이 진행 됨\n",
    "train = pd.read_csv('data/X_train.csv', encoding='euc-kr') \n",
    "target = pd.read_csv('data/y_train.csv')\n",
    "test = pd.read_csv('data/X_test.csv', encoding='euc-kr')\n",
    "\n",
    "print(train.shape, target.shape, test.shape)\n",
    "\n",
    "df = train.merge(target, on='cust_id', how='left')\n",
    "print(df.shape)"
   ]
  },
  {
   "cell_type": "code",
   "execution_count": 4,
   "metadata": {},
   "outputs": [
    {
     "name": "stdout",
     "output_type": "stream",
     "text": [
      "(5982, 11)\n"
     ]
    }
   ],
   "source": [
    "df = pd.concat([df, test])\n",
    "print(df.shape)"
   ]
  },
  {
   "cell_type": "markdown",
   "metadata": {},
   "source": [
    "# 2. 전처리 & Feature Engineering"
   ]
  },
  {
   "cell_type": "code",
   "execution_count": 5,
   "metadata": {},
   "outputs": [
    {
     "name": "stdout",
     "output_type": "stream",
     "text": [
      "<class 'pandas.core.frame.DataFrame'>\n",
      "Int64Index: 5982 entries, 0 to 2481\n",
      "Data columns (total 11 columns):\n",
      " #   Column   Non-Null Count  Dtype  \n",
      "---  ------   --------------  -----  \n",
      " 0   cust_id  5982 non-null   int64  \n",
      " 1   총구매액     5982 non-null   int64  \n",
      " 2   최대구매액    5982 non-null   int64  \n",
      " 3   환불금액     2076 non-null   float64\n",
      " 4   주구매상품    5982 non-null   object \n",
      " 5   주구매지점    5982 non-null   object \n",
      " 6   내점일수     5982 non-null   int64  \n",
      " 7   내점당구매건수  5982 non-null   float64\n",
      " 8   주말방문비율   5982 non-null   float64\n",
      " 9   구매주기     5982 non-null   int64  \n",
      " 10  gender   3500 non-null   float64\n",
      "dtypes: float64(4), int64(5), object(2)\n",
      "memory usage: 560.8+ KB\n",
      "None\n"
     ]
    }
   ],
   "source": [
    "print(df.info())"
   ]
  },
  {
   "cell_type": "code",
   "execution_count": 6,
   "metadata": {},
   "outputs": [
    {
     "name": "stdout",
     "output_type": "stream",
     "text": [
      "            cust_id          총구매액         최대구매액          환불금액 주구매상품 주구매지점  \\\n",
      "count   5982.000000  5.982000e+03  5.982000e+03  2.076000e+03  5982  5982   \n",
      "unique          NaN           NaN           NaN           NaN    42    24   \n",
      "top             NaN           NaN           NaN           NaN    기타  본  점   \n",
      "freq            NaN           NaN           NaN           NaN  1060  1803   \n",
      "mean    2990.500000  9.569838e+07  2.053814e+07  2.469452e+07   NaN   NaN   \n",
      "std     1726.998987  1.676480e+08  3.330805e+07  5.281222e+07   NaN   NaN   \n",
      "min        0.000000 -5.242152e+07 -3.744000e+07  5.600000e+03   NaN   NaN   \n",
      "25%     1495.250000  4.867800e+06  2.875000e+06  2.304000e+06   NaN   NaN   \n",
      "50%     2990.500000  2.898500e+07  1.019760e+07  7.627000e+06   NaN   NaN   \n",
      "75%     4485.750000  1.142893e+08  2.447250e+07  2.353250e+07   NaN   NaN   \n",
      "max     5981.000000  2.861238e+09  7.066290e+08  8.715144e+08   NaN   NaN   \n",
      "\n",
      "               내점일수      내점당구매건수       주말방문비율         구매주기       gender  \n",
      "count   5982.000000  5982.000000  5982.000000  5982.000000  3500.000000  \n",
      "unique          NaN          NaN          NaN          NaN          NaN  \n",
      "top             NaN          NaN          NaN          NaN          NaN  \n",
      "freq            NaN          NaN          NaN          NaN          NaN  \n",
      "mean      19.362922     2.828501     0.301672    20.679371     0.376000  \n",
      "std       26.681326     1.848389     0.286858    24.485411     0.484449  \n",
      "min        1.000000     1.000000     0.000000     0.000000     0.000000  \n",
      "25%        2.000000     1.704248     0.025688     4.000000     0.000000  \n",
      "50%        9.000000     2.375000     0.250000    13.000000     0.000000  \n",
      "75%       26.000000     3.375000     0.440554    28.000000     1.000000  \n",
      "max      285.000000    22.083333     1.000000   177.000000     1.000000  \n"
     ]
    }
   ],
   "source": [
    "print(df.describe(include=\"all\") )"
   ]
  },
  {
   "cell_type": "code",
   "execution_count": 7,
   "metadata": {},
   "outputs": [
    {
     "name": "stdout",
     "output_type": "stream",
     "text": [
      "0.6529588766298897\n",
      "5600.0\n",
      "2482\n"
     ]
    }
   ],
   "source": [
    "# null - 환불금액\n",
    "print(sum(df['환불금액'].isna())/df.shape[0])\n",
    "# 65%가 null min=\n",
    "print(df['환불금액'].min())\n",
    "# min 5600.0 이므로, 0으로 대체\n",
    "df['환불금액'] = df['환불금액'].fillna(0)\n",
    "print(df.isna().sum().sum())"
   ]
  },
  {
   "cell_type": "code",
   "execution_count": null,
   "metadata": {},
   "outputs": [],
   "source": []
  },
  {
   "cell_type": "code",
   "execution_count": 8,
   "metadata": {},
   "outputs": [],
   "source": [
    "# object - 주구매상품, 주구매지점 \n",
    "#print(df['주구매상품'].value_counts())\n",
    "#print(df['주구매지점'].value_counts())\n",
    "\n",
    "# label encoding\n",
    "\n",
    "from sklearn.preprocessing import LabelEncoder\n",
    "enc = LabelEncoder()\n",
    "df['주구매상품'] = enc.fit_transform(df['주구매상품'])\n",
    "df['주구매지점'] = enc.fit_transform(df['주구매지점'])"
   ]
  },
  {
   "cell_type": "code",
   "execution_count": 9,
   "metadata": {},
   "outputs": [
    {
     "data": {
      "text/html": [
       "<div>\n",
       "<style scoped>\n",
       "    .dataframe tbody tr th:only-of-type {\n",
       "        vertical-align: middle;\n",
       "    }\n",
       "\n",
       "    .dataframe tbody tr th {\n",
       "        vertical-align: top;\n",
       "    }\n",
       "\n",
       "    .dataframe thead th {\n",
       "        text-align: right;\n",
       "    }\n",
       "</style>\n",
       "<table border=\"1\" class=\"dataframe\">\n",
       "  <thead>\n",
       "    <tr style=\"text-align: right;\">\n",
       "      <th></th>\n",
       "      <th>cust_id</th>\n",
       "      <th>총구매액</th>\n",
       "      <th>최대구매액</th>\n",
       "      <th>환불금액</th>\n",
       "      <th>주구매상품</th>\n",
       "      <th>주구매지점</th>\n",
       "      <th>내점일수</th>\n",
       "      <th>내점당구매건수</th>\n",
       "      <th>주말방문비율</th>\n",
       "      <th>구매주기</th>\n",
       "      <th>gender</th>\n",
       "    </tr>\n",
       "  </thead>\n",
       "  <tbody>\n",
       "    <tr>\n",
       "      <th>cust_id</th>\n",
       "      <td>NaN</td>\n",
       "      <td>NaN</td>\n",
       "      <td>NaN</td>\n",
       "      <td>NaN</td>\n",
       "      <td>NaN</td>\n",
       "      <td>NaN</td>\n",
       "      <td>NaN</td>\n",
       "      <td>NaN</td>\n",
       "      <td>NaN</td>\n",
       "      <td>NaN</td>\n",
       "      <td>NaN</td>\n",
       "    </tr>\n",
       "    <tr>\n",
       "      <th>총구매액</th>\n",
       "      <td>NaN</td>\n",
       "      <td>NaN</td>\n",
       "      <td>NaN</td>\n",
       "      <td>NaN</td>\n",
       "      <td>NaN</td>\n",
       "      <td>NaN</td>\n",
       "      <td>NaN</td>\n",
       "      <td>NaN</td>\n",
       "      <td>NaN</td>\n",
       "      <td>NaN</td>\n",
       "      <td>NaN</td>\n",
       "    </tr>\n",
       "    <tr>\n",
       "      <th>최대구매액</th>\n",
       "      <td>NaN</td>\n",
       "      <td>NaN</td>\n",
       "      <td>NaN</td>\n",
       "      <td>NaN</td>\n",
       "      <td>NaN</td>\n",
       "      <td>NaN</td>\n",
       "      <td>NaN</td>\n",
       "      <td>NaN</td>\n",
       "      <td>NaN</td>\n",
       "      <td>NaN</td>\n",
       "      <td>NaN</td>\n",
       "    </tr>\n",
       "    <tr>\n",
       "      <th>환불금액</th>\n",
       "      <td>NaN</td>\n",
       "      <td>NaN</td>\n",
       "      <td>NaN</td>\n",
       "      <td>NaN</td>\n",
       "      <td>NaN</td>\n",
       "      <td>NaN</td>\n",
       "      <td>NaN</td>\n",
       "      <td>NaN</td>\n",
       "      <td>NaN</td>\n",
       "      <td>NaN</td>\n",
       "      <td>NaN</td>\n",
       "    </tr>\n",
       "    <tr>\n",
       "      <th>주구매상품</th>\n",
       "      <td>NaN</td>\n",
       "      <td>NaN</td>\n",
       "      <td>NaN</td>\n",
       "      <td>NaN</td>\n",
       "      <td>NaN</td>\n",
       "      <td>NaN</td>\n",
       "      <td>NaN</td>\n",
       "      <td>NaN</td>\n",
       "      <td>NaN</td>\n",
       "      <td>NaN</td>\n",
       "      <td>NaN</td>\n",
       "    </tr>\n",
       "    <tr>\n",
       "      <th>주구매지점</th>\n",
       "      <td>NaN</td>\n",
       "      <td>NaN</td>\n",
       "      <td>NaN</td>\n",
       "      <td>NaN</td>\n",
       "      <td>NaN</td>\n",
       "      <td>NaN</td>\n",
       "      <td>NaN</td>\n",
       "      <td>NaN</td>\n",
       "      <td>NaN</td>\n",
       "      <td>NaN</td>\n",
       "      <td>NaN</td>\n",
       "    </tr>\n",
       "    <tr>\n",
       "      <th>내점일수</th>\n",
       "      <td>NaN</td>\n",
       "      <td>NaN</td>\n",
       "      <td>NaN</td>\n",
       "      <td>NaN</td>\n",
       "      <td>NaN</td>\n",
       "      <td>NaN</td>\n",
       "      <td>NaN</td>\n",
       "      <td>NaN</td>\n",
       "      <td>NaN</td>\n",
       "      <td>NaN</td>\n",
       "      <td>NaN</td>\n",
       "    </tr>\n",
       "    <tr>\n",
       "      <th>내점당구매건수</th>\n",
       "      <td>NaN</td>\n",
       "      <td>NaN</td>\n",
       "      <td>NaN</td>\n",
       "      <td>NaN</td>\n",
       "      <td>NaN</td>\n",
       "      <td>NaN</td>\n",
       "      <td>NaN</td>\n",
       "      <td>NaN</td>\n",
       "      <td>NaN</td>\n",
       "      <td>NaN</td>\n",
       "      <td>NaN</td>\n",
       "    </tr>\n",
       "    <tr>\n",
       "      <th>주말방문비율</th>\n",
       "      <td>NaN</td>\n",
       "      <td>NaN</td>\n",
       "      <td>NaN</td>\n",
       "      <td>NaN</td>\n",
       "      <td>NaN</td>\n",
       "      <td>NaN</td>\n",
       "      <td>NaN</td>\n",
       "      <td>NaN</td>\n",
       "      <td>NaN</td>\n",
       "      <td>NaN</td>\n",
       "      <td>NaN</td>\n",
       "    </tr>\n",
       "    <tr>\n",
       "      <th>구매주기</th>\n",
       "      <td>NaN</td>\n",
       "      <td>NaN</td>\n",
       "      <td>NaN</td>\n",
       "      <td>NaN</td>\n",
       "      <td>NaN</td>\n",
       "      <td>NaN</td>\n",
       "      <td>NaN</td>\n",
       "      <td>NaN</td>\n",
       "      <td>NaN</td>\n",
       "      <td>NaN</td>\n",
       "      <td>NaN</td>\n",
       "    </tr>\n",
       "    <tr>\n",
       "      <th>gender</th>\n",
       "      <td>NaN</td>\n",
       "      <td>NaN</td>\n",
       "      <td>NaN</td>\n",
       "      <td>NaN</td>\n",
       "      <td>NaN</td>\n",
       "      <td>NaN</td>\n",
       "      <td>NaN</td>\n",
       "      <td>NaN</td>\n",
       "      <td>NaN</td>\n",
       "      <td>NaN</td>\n",
       "      <td>NaN</td>\n",
       "    </tr>\n",
       "  </tbody>\n",
       "</table>\n",
       "</div>"
      ],
      "text/plain": [
       "         cust_id  총구매액  최대구매액  환불금액  주구매상품  주구매지점  내점일수  내점당구매건수  주말방문비율  \\\n",
       "cust_id      NaN   NaN    NaN   NaN    NaN    NaN   NaN      NaN     NaN   \n",
       "총구매액         NaN   NaN    NaN   NaN    NaN    NaN   NaN      NaN     NaN   \n",
       "최대구매액        NaN   NaN    NaN   NaN    NaN    NaN   NaN      NaN     NaN   \n",
       "환불금액         NaN   NaN    NaN   NaN    NaN    NaN   NaN      NaN     NaN   \n",
       "주구매상품        NaN   NaN    NaN   NaN    NaN    NaN   NaN      NaN     NaN   \n",
       "주구매지점        NaN   NaN    NaN   NaN    NaN    NaN   NaN      NaN     NaN   \n",
       "내점일수         NaN   NaN    NaN   NaN    NaN    NaN   NaN      NaN     NaN   \n",
       "내점당구매건수      NaN   NaN    NaN   NaN    NaN    NaN   NaN      NaN     NaN   \n",
       "주말방문비율       NaN   NaN    NaN   NaN    NaN    NaN   NaN      NaN     NaN   \n",
       "구매주기         NaN   NaN    NaN   NaN    NaN    NaN   NaN      NaN     NaN   \n",
       "gender       NaN   NaN    NaN   NaN    NaN    NaN   NaN      NaN     NaN   \n",
       "\n",
       "         구매주기  gender  \n",
       "cust_id   NaN     NaN  \n",
       "총구매액      NaN     NaN  \n",
       "최대구매액     NaN     NaN  \n",
       "환불금액      NaN     NaN  \n",
       "주구매상품     NaN     NaN  \n",
       "주구매지점     NaN     NaN  \n",
       "내점일수      NaN     NaN  \n",
       "내점당구매건수   NaN     NaN  \n",
       "주말방문비율    NaN     NaN  \n",
       "구매주기      NaN     NaN  \n",
       "gender    NaN     NaN  "
      ]
     },
     "execution_count": 9,
     "metadata": {},
     "output_type": "execute_result"
    }
   ],
   "source": [
    "# corr\n",
    "df.corr()[(abs(df.corr()) > 0.7) & (abs(df.corr()) != 1)]"
   ]
  },
  {
   "cell_type": "code",
   "execution_count": 10,
   "metadata": {},
   "outputs": [],
   "source": [
    "df.drop('최대구매액', axis=1, inplace=True)"
   ]
  },
  {
   "cell_type": "code",
   "execution_count": 11,
   "metadata": {},
   "outputs": [],
   "source": [
    "# one-hot \n",
    "df = pd.get_dummies(df, columns=['주구매상품','주구매지점'], drop_first=True)"
   ]
  },
  {
   "cell_type": "code",
   "execution_count": null,
   "metadata": {},
   "outputs": [],
   "source": []
  },
  {
   "cell_type": "markdown",
   "metadata": {},
   "source": [
    "# 3. 분류 알고리즘 사용"
   ]
  },
  {
   "cell_type": "code",
   "execution_count": 12,
   "metadata": {},
   "outputs": [],
   "source": [
    "# 데이터 분리\n",
    "from sklearn.model_selection import train_test_split"
   ]
  },
  {
   "cell_type": "code",
   "execution_count": 13,
   "metadata": {},
   "outputs": [],
   "source": [
    "train = df[~df.gender.isna()]\n",
    "test = df[df.gender.isna()]"
   ]
  },
  {
   "cell_type": "code",
   "execution_count": 14,
   "metadata": {},
   "outputs": [
    {
     "name": "stdout",
     "output_type": "stream",
     "text": [
      "(2450, 70) (1050, 70) (2450,) (1050,)\n"
     ]
    }
   ],
   "source": [
    "target = train.gender\n",
    "train.drop(['cust_id'], axis=1, inplace=True)\n",
    "\n",
    "train.drop(['gender'], axis=1, inplace=True)\n",
    "test.drop(['gender'], axis=1, inplace=True)\n",
    "\n",
    "X_train, X_test, y_train, y_test = train_test_split(train, target, test_size=0.3, random_state=42)\n",
    "print(X_train.shape, X_test.shape, y_train.shape, y_test.shape)"
   ]
  },
  {
   "cell_type": "code",
   "execution_count": 15,
   "metadata": {},
   "outputs": [],
   "source": [
    "from sklearn.ensemble import VotingClassifier, RandomForestClassifier, GradientBoostingClassifier\n",
    "\n",
    "from sklearn.tree import DecisionTreeClassifier"
   ]
  },
  {
   "cell_type": "code",
   "execution_count": 16,
   "metadata": {},
   "outputs": [],
   "source": [
    "#dir(sklearn.ensemble)\n",
    "#help(sklearn.ensemble.RandomForestClassifier)\n",
    "rfc = RandomForestClassifier()\n",
    "gbc = GradientBoostingClassifier()\n",
    "\n",
    "#rfc.fit(X_train, y_train)\n",
    "#gbc.fit(X_train, y_train)"
   ]
  },
  {
   "cell_type": "markdown",
   "metadata": {},
   "source": [
    "# 4. 초매개변수 최적화"
   ]
  },
  {
   "cell_type": "code",
   "execution_count": 17,
   "metadata": {},
   "outputs": [],
   "source": [
    "from sklearn.model_selection import GridSearchCV"
   ]
  },
  {
   "cell_type": "code",
   "execution_count": 18,
   "metadata": {},
   "outputs": [],
   "source": [
    "#help(GradientBoostingClassifier)"
   ]
  },
  {
   "cell_type": "code",
   "execution_count": null,
   "metadata": {},
   "outputs": [],
   "source": [
    "parmas = {'n_estimators':[100,200], 'criterion':[\"gini\", \"entropy\"]}\n",
    "rfc_gs = GridSearchCV(rfc, param_grid=parmas, scoring='roc_auc', cv=3, refit=True, return_train_score=True)\n",
    "rfc_gs.fit(X_train, y_train)\n",
    "print(rfc_gs.best_params_)\n",
    "rfc = RandomForestClassifier(criterion= 'gini', n_estimators= 200)"
   ]
  },
  {
   "cell_type": "markdown",
   "metadata": {},
   "source": [
    "# 5. 모형 앙상블"
   ]
  },
  {
   "cell_type": "code",
   "execution_count": null,
   "metadata": {},
   "outputs": [],
   "source": [
    "vot = VotingClassifier(estimators=[\n",
    "    ('rfc',rfc), ('gbc',gbc)\n",
    "], voting='soft')\n",
    "vot"
   ]
  },
  {
   "cell_type": "code",
   "execution_count": null,
   "metadata": {},
   "outputs": [],
   "source": [
    "vot.fit(X_train, y_train)"
   ]
  },
  {
   "cell_type": "markdown",
   "metadata": {},
   "source": [
    "# 6. 예측"
   ]
  },
  {
   "cell_type": "code",
   "execution_count": null,
   "metadata": {},
   "outputs": [],
   "source": [
    "from sklearn.metrics import roc_auc_score"
   ]
  },
  {
   "cell_type": "code",
   "execution_count": null,
   "metadata": {},
   "outputs": [],
   "source": [
    "pred = vot.predict(X_test)\n",
    "print(roc_auc_score(pred, y_test))"
   ]
  },
  {
   "cell_type": "markdown",
   "metadata": {},
   "source": [
    "# 7. 제출 "
   ]
  },
  {
   "cell_type": "code",
   "execution_count": null,
   "metadata": {},
   "outputs": [],
   "source": [
    "pred = vot.predict_proba(test.drop('cust_id', axis=1, inplace=False))\n",
    "pred.shape"
   ]
  },
  {
   "cell_type": "code",
   "execution_count": null,
   "metadata": {},
   "outputs": [],
   "source": [
    "pred # 1일 확률 "
   ]
  },
  {
   "cell_type": "code",
   "execution_count": null,
   "metadata": {},
   "outputs": [],
   "source": [
    "pred[:,1]"
   ]
  },
  {
   "cell_type": "code",
   "execution_count": null,
   "metadata": {},
   "outputs": [],
   "source": [
    "test['gender'] = pred[:,1]"
   ]
  },
  {
   "cell_type": "code",
   "execution_count": null,
   "metadata": {},
   "outputs": [],
   "source": [
    "test[['cust_id', 'gender']]"
   ]
  },
  {
   "cell_type": "code",
   "execution_count": null,
   "metadata": {},
   "outputs": [],
   "source": [
    "# 답안 제출 예시\n",
    "# 수험번호.csv 생성\n",
    "test[['cust_id', 'gender']].to_csv(\"0000.csv\", index=False)"
   ]
  }
 ],
 "metadata": {
  "kernelspec": {
   "display_name": "Python 3",
   "language": "python",
   "name": "python3"
  },
  "language_info": {
   "codemirror_mode": {
    "name": "ipython",
    "version": 3
   },
   "file_extension": ".py",
   "mimetype": "text/x-python",
   "name": "python",
   "nbconvert_exporter": "python",
   "pygments_lexer": "ipython3",
   "version": "3.7.6"
  }
 },
 "nbformat": 4,
 "nbformat_minor": 4
}
