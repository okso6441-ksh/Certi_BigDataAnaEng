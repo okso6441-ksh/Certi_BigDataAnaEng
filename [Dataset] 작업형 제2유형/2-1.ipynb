{
 "cells": [
  {
   "cell_type": "code",
   "execution_count": 1,
   "metadata": {},
   "outputs": [],
   "source": [
    "import numpy as np\n",
    "import pandas as pd\n",
    "import warnings\n",
    "warnings.filterwarnings('ignore')"
   ]
  },
  {
   "cell_type": "code",
   "execution_count": 2,
   "metadata": {},
   "outputs": [],
   "source": [
    "pd.set_option('max_rows', None)\n",
    "pd.set_option('max_columns', None)"
   ]
  },
  {
   "cell_type": "markdown",
   "metadata": {},
   "source": [
    "# 1. 데이터 로드"
   ]
  },
  {
   "cell_type": "code",
   "execution_count": 3,
   "metadata": {},
   "outputs": [
    {
     "name": "stdout",
     "output_type": "stream",
     "text": [
      "(3500, 10) (3500, 2) (2482, 10)\n",
      "(3500, 11)\n"
     ]
    }
   ],
   "source": [
    "# 실습 환경은 인코딩 없이 진행 됨\n",
    "train = pd.read_csv('data/X_train.csv', encoding='euc-kr') \n",
    "target = pd.read_csv('data/y_train.csv')\n",
    "test = pd.read_csv('data/X_test.csv', encoding='euc-kr')\n",
    "print(train.shape, target.shape, test.shape)\n",
    "df = train.merge(target, on='cust_id', how='left')\n",
    "df = pd.concat([df, test])\n",
    "print(df.shape)"
   ]
  },
  {
   "cell_type": "markdown",
   "metadata": {},
   "source": [
    "# 2. 전처리 & Feature Engineering"
   ]
  },
  {
   "cell_type": "code",
   "execution_count": null,
   "metadata": {},
   "outputs": [],
   "source": [
    "print(df.info())\n",
    "print(df.describe(include=\"all\") )"
   ]
  },
  {
   "cell_type": "code",
   "execution_count": null,
   "metadata": {},
   "outputs": [],
   "source": [
    "print(sum(df['환불금액'].isna())/df.shape[0], df['환불금액'].min())\n",
    "df['환불금액'] = df['환불금액'].fillna(0)\n",
    "print(df.isna().sum().sum())"
   ]
  },
  {
   "cell_type": "code",
   "execution_count": 8,
   "metadata": {},
   "outputs": [],
   "source": [
    "# object - 주구매상품, 주구매지점 \n",
    "#print(df['주구매상품'].value_counts())\n",
    "#print(df['주구매지점'].value_counts())\n",
    "\n",
    "from sklearn.preprocessing import LabelEncoder\n",
    "enc = LabelEncoder()\n",
    "df['주구매상품'] = enc.fit_transform(df['주구매상품'])\n",
    "df['주구매지점'] = enc.fit_transform(df['주구매지점'])"
   ]
  },
  {
   "cell_type": "code",
   "execution_count": null,
   "metadata": {},
   "outputs": [],
   "source": [
    "df.corr()[(abs(df.corr()) > 0.7) & (abs(df.corr()) != 1)]"
   ]
  },
  {
   "cell_type": "code",
   "execution_count": 10,
   "metadata": {},
   "outputs": [],
   "source": [
    "df.drop('최대구매액', axis=1, inplace=True)"
   ]
  },
  {
   "cell_type": "code",
   "execution_count": 11,
   "metadata": {},
   "outputs": [],
   "source": [
    "df = pd.get_dummies(df, columns=['주구매상품','주구매지점'], drop_first=True)"
   ]
  },
  {
   "cell_type": "markdown",
   "metadata": {},
   "source": [
    "# 3. 분류 알고리즘 사용"
   ]
  },
  {
   "cell_type": "code",
   "execution_count": 12,
   "metadata": {},
   "outputs": [],
   "source": [
    "# 데이터 분리\n",
    "from sklearn.model_selection import train_test_split"
   ]
  },
  {
   "cell_type": "code",
   "execution_count": 13,
   "metadata": {},
   "outputs": [],
   "source": [
    "train = df[~df.gender.isna()]\n",
    "test = df[df.gender.isna()]"
   ]
  },
  {
   "cell_type": "code",
   "execution_count": 14,
   "metadata": {},
   "outputs": [
    {
     "name": "stdout",
     "output_type": "stream",
     "text": [
      "(2450, 70) (1050, 70) (2450,) (1050,)\n"
     ]
    }
   ],
   "source": [
    "target = train.gender\n",
    "train.drop(['cust_id'], axis=1, inplace=True)\n",
    "\n",
    "train.drop(['gender'], axis=1, inplace=True)\n",
    "test.drop(['gender'], axis=1, inplace=True)\n",
    "\n",
    "X_train, X_test, y_train, y_test = train_test_split(train, target, test_size=0.3, random_state=42)\n",
    "print(X_train.shape, X_test.shape, y_train.shape, y_test.shape)"
   ]
  },
  {
   "cell_type": "code",
   "execution_count": 15,
   "metadata": {},
   "outputs": [],
   "source": [
    "from sklearn.ensemble import VotingClassifier, RandomForestClassifier, GradientBoostingClassifier\n",
    "\n",
    "from sklearn.tree import DecisionTreeClassifier"
   ]
  },
  {
   "cell_type": "code",
   "execution_count": 16,
   "metadata": {},
   "outputs": [],
   "source": [
    "#dir(sklearn.ensemble)\n",
    "#help(sklearn.ensemble.RandomForestClassifier)\n",
    "rfc = RandomForestClassifier()\n",
    "gbc = GradientBoostingClassifier()"
   ]
  },
  {
   "cell_type": "markdown",
   "metadata": {},
   "source": [
    "# 4. 초매개변수 최적화"
   ]
  },
  {
   "cell_type": "code",
   "execution_count": 17,
   "metadata": {},
   "outputs": [],
   "source": [
    "from sklearn.model_selection import GridSearchCV"
   ]
  },
  {
   "cell_type": "code",
   "execution_count": 19,
   "metadata": {},
   "outputs": [
    {
     "name": "stdout",
     "output_type": "stream",
     "text": [
      "{'criterion': 'gini', 'n_estimators': 200}\n"
     ]
    }
   ],
   "source": [
    "parmas = {'n_estimators':[100,200], 'criterion':[\"gini\", \"entropy\"]}\n",
    "rfc_gs = GridSearchCV(rfc, param_grid=parmas, scoring='roc_auc', cv=3, refit=True, return_train_score=True)\n",
    "rfc_gs.fit(X_train, y_train)\n",
    "print(rfc_gs.best_params_)\n",
    "rfc = RandomForestClassifier(criterion= 'gini', n_estimators= 200)"
   ]
  },
  {
   "cell_type": "markdown",
   "metadata": {},
   "source": [
    "# 5. 모형 앙상블"
   ]
  },
  {
   "cell_type": "code",
   "execution_count": 20,
   "metadata": {},
   "outputs": [
    {
     "data": {
      "text/plain": [
       "VotingClassifier(estimators=[('rfc', RandomForestClassifier(n_estimators=200)),\n",
       "                             ('gbc', GradientBoostingClassifier())],\n",
       "                 voting='soft')"
      ]
     },
     "execution_count": 20,
     "metadata": {},
     "output_type": "execute_result"
    }
   ],
   "source": [
    "vot = VotingClassifier(estimators=[\n",
    "    ('rfc',rfc), ('gbc',gbc)\n",
    "], voting='soft')\n",
    "vot.fit(X_train, y_train)"
   ]
  },
  {
   "cell_type": "markdown",
   "metadata": {},
   "source": [
    "# 6. 예측"
   ]
  },
  {
   "cell_type": "code",
   "execution_count": 22,
   "metadata": {},
   "outputs": [],
   "source": [
    "from sklearn.metrics import roc_auc_score"
   ]
  },
  {
   "cell_type": "code",
   "execution_count": 23,
   "metadata": {},
   "outputs": [
    {
     "name": "stdout",
     "output_type": "stream",
     "text": [
      "0.6102262288445669\n"
     ]
    }
   ],
   "source": [
    "pred = vot.predict(X_test)\n",
    "print(roc_auc_score(pred, y_test))"
   ]
  },
  {
   "cell_type": "markdown",
   "metadata": {},
   "source": [
    "# 7. 제출 "
   ]
  },
  {
   "cell_type": "code",
   "execution_count": 24,
   "metadata": {},
   "outputs": [
    {
     "data": {
      "text/plain": [
       "(2482, 2)"
      ]
     },
     "execution_count": 24,
     "metadata": {},
     "output_type": "execute_result"
    }
   ],
   "source": [
    "pred = vot.predict_proba(test.drop('cust_id', axis=1, inplace=False))\n",
    "pred.shape"
   ]
  },
  {
   "cell_type": "code",
   "execution_count": 25,
   "metadata": {},
   "outputs": [
    {
     "data": {
      "text/plain": [
       "array([[0.66555393, 0.33444607],\n",
       "       [0.82725971, 0.17274029],\n",
       "       [0.79211151, 0.20788849],\n",
       "       ...,\n",
       "       [0.33111937, 0.66888063],\n",
       "       [0.66668592, 0.33331408],\n",
       "       [0.49444108, 0.50555892]])"
      ]
     },
     "execution_count": 25,
     "metadata": {},
     "output_type": "execute_result"
    }
   ],
   "source": [
    "pred # 1일 확률 "
   ]
  },
  {
   "cell_type": "code",
   "execution_count": 26,
   "metadata": {},
   "outputs": [
    {
     "data": {
      "text/plain": [
       "array([0.33444607, 0.17274029, 0.20788849, ..., 0.66888063, 0.33331408,\n",
       "       0.50555892])"
      ]
     },
     "execution_count": 26,
     "metadata": {},
     "output_type": "execute_result"
    }
   ],
   "source": [
    "pred[:,1]"
   ]
  },
  {
   "cell_type": "code",
   "execution_count": 27,
   "metadata": {},
   "outputs": [],
   "source": [
    "test['gender'] = pred[:,1]"
   ]
  },
  {
   "cell_type": "code",
   "execution_count": 29,
   "metadata": {},
   "outputs": [],
   "source": [
    "# 답안 제출 예시\n",
    "# 수험번호.csv 생성\n",
    "test[['cust_id', 'gender']].to_csv(\"0000.csv\", index=False)"
   ]
  }
 ],
 "metadata": {
  "kernelspec": {
   "display_name": "Python 3",
   "language": "python",
   "name": "python3"
  },
  "language_info": {
   "codemirror_mode": {
    "name": "ipython",
    "version": 3
   },
   "file_extension": ".py",
   "mimetype": "text/x-python",
   "name": "python",
   "nbconvert_exporter": "python",
   "pygments_lexer": "ipython3",
   "version": "3.7.6"
  }
 },
 "nbformat": 4,
 "nbformat_minor": 4
}
